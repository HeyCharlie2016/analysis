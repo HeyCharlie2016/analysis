{
 "cells": [
  {
   "cell_type": "code",
   "execution_count": 1,
   "metadata": {},
   "outputs": [],
   "source": [
    "import os\n",
    "import datetime as dt\n",
    "import pandas as pd\n",
    "import csv"
   ]
  },
  {
   "cell_type": "markdown",
   "metadata": {},
   "source": [
    "#### Importing Project Libraries"
   ]
  },
  {
   "cell_type": "code",
   "execution_count": 2,
   "metadata": {},
   "outputs": [],
   "source": [
    "# add the 'src' directory as one where we can import modules\n",
    "import sys\n",
    "import pathlib # __file__ isn't recognized in Jupyter, so we need this to get the root path\n",
    "path = pathlib.Path.cwd()\n",
    "PROJ_ROOT = path.parent \n",
    "src_dir = str(PROJ_ROOT / 'src')\n",
    "PROJ_ROOT = str(PROJ_ROOT)\n",
    "sys.path.append(src_dir)\n",
    "from data import make_dataset"
   ]
  },
  {
   "cell_type": "markdown",
   "metadata": {},
   "source": [
    "### Confirm that the core data is up to date"
   ]
  },
  {
   "cell_type": "code",
   "execution_count": 3,
   "metadata": {},
   "outputs": [
    {
     "name": "stdout",
     "output_type": "stream",
     "text": [
      "Interim users_df datafile exists\n",
      "Updating raw data for:\n",
      "['philoiz', 'fenderman123', 'plush.mary', 'ceecee', 'hayyogirl', 'joeybars', 'nepthys', 'anonysauce', 'joeybars7', 'inreverie', 'jake', 'upstate518', '+vinny', 'rabbit', 'rusty', 'jmeow', 'keirmaley', 'username', 'shanila', 'google']\n",
      "Username not found: []\n",
      "Updated raw data for users:\n",
      "['philoiz', 'fenderman123', 'plush.mary', 'ceecee', 'hayyogirl', 'joeybars', 'nepthys', 'anonysauce', 'keirmaley', 'joeybars7', 'inreverie', 'jake', 'upstate518', '+vinny', 'google', 'rusty', 'jmeow', 'shanila', 'username', 'rabbit']\n",
      "Updated raw data for:\n",
      "['philoiz', 'fenderman123', 'plush.mary', 'ceecee', 'hayyogirl', 'joeybars', 'nepthys', 'anonysauce', 'keirmaley', 'joeybars7', 'inreverie', 'jake', 'upstate518', '+vinny', 'google', 'rusty', 'jmeow', 'shanila', 'username', 'rabbit']\n"
     ]
    },
    {
     "name": "stderr",
     "output_type": "stream",
     "text": [
      "C:\\Users\\Vinny\\Documents\\HeyCharlie Analysis Repo\\analysis\\src\\data\\location_df_analyses.py:74: FutureWarning: 'timestamp' is both an index level and a column label.\n",
      "Defaulting to column, but this will raise an ambiguity error in a future version\n",
      "  activity = user_loc_activity.sort_values('timestamp', ascending=True)\n",
      "C:\\Users\\Vinny\\Documents\\HeyCharlie Analysis Repo\\analysis\\src\\data\\location_df_analyses.py:74: FutureWarning: 'timestamp' is both an index level and a column label.\n",
      "Defaulting to column, but this will raise an ambiguity error in a future version\n",
      "  activity = user_loc_activity.sort_values('timestamp', ascending=True)\n",
      "C:\\Users\\Vinny\\Documents\\HeyCharlie Analysis Repo\\analysis\\src\\data\\location_df_analyses.py:74: FutureWarning: 'timestamp' is both an index level and a column label.\n",
      "Defaulting to column, but this will raise an ambiguity error in a future version\n",
      "  activity = user_loc_activity.sort_values('timestamp', ascending=True)\n",
      "C:\\Users\\Vinny\\Documents\\HeyCharlie Analysis Repo\\analysis\\src\\data\\location_df_analyses.py:74: FutureWarning: 'timestamp' is both an index level and a column label.\n",
      "Defaulting to column, but this will raise an ambiguity error in a future version\n",
      "  activity = user_loc_activity.sort_values('timestamp', ascending=True)\n",
      "C:\\Users\\Vinny\\Documents\\HeyCharlie Analysis Repo\\analysis\\src\\data\\location_df_analyses.py:74: FutureWarning: 'timestamp' is both an index level and a column label.\n",
      "Defaulting to column, but this will raise an ambiguity error in a future version\n",
      "  activity = user_loc_activity.sort_values('timestamp', ascending=True)\n",
      "C:\\Users\\Vinny\\Documents\\HeyCharlie Analysis Repo\\analysis\\src\\data\\location_df_analyses.py:74: FutureWarning: 'timestamp' is both an index level and a column label.\n",
      "Defaulting to column, but this will raise an ambiguity error in a future version\n",
      "  activity = user_loc_activity.sort_values('timestamp', ascending=True)\n",
      "C:\\Users\\Vinny\\Documents\\HeyCharlie Analysis Repo\\analysis\\src\\data\\location_df_analyses.py:74: FutureWarning: 'timestamp' is both an index level and a column label.\n",
      "Defaulting to column, but this will raise an ambiguity error in a future version\n",
      "  activity = user_loc_activity.sort_values('timestamp', ascending=True)\n",
      "C:\\Users\\Vinny\\Documents\\HeyCharlie Analysis Repo\\analysis\\src\\data\\location_df_analyses.py:74: FutureWarning: 'timestamp' is both an index level and a column label.\n",
      "Defaulting to column, but this will raise an ambiguity error in a future version\n",
      "  activity = user_loc_activity.sort_values('timestamp', ascending=True)\n",
      "C:\\Users\\Vinny\\Documents\\HeyCharlie Analysis Repo\\analysis\\src\\data\\location_df_analyses.py:74: FutureWarning: 'timestamp' is both an index level and a column label.\n",
      "Defaulting to column, but this will raise an ambiguity error in a future version\n",
      "  activity = user_loc_activity.sort_values('timestamp', ascending=True)\n",
      "C:\\Users\\Vinny\\Documents\\HeyCharlie Analysis Repo\\analysis\\src\\data\\location_df_analyses.py:74: FutureWarning: 'timestamp' is both an index level and a column label.\n",
      "Defaulting to column, but this will raise an ambiguity error in a future version\n",
      "  activity = user_loc_activity.sort_values('timestamp', ascending=True)\n",
      "C:\\Users\\Vinny\\Documents\\HeyCharlie Analysis Repo\\analysis\\src\\data\\location_df_analyses.py:74: FutureWarning: 'timestamp' is both an index level and a column label.\n",
      "Defaulting to column, but this will raise an ambiguity error in a future version\n",
      "  activity = user_loc_activity.sort_values('timestamp', ascending=True)\n",
      "C:\\Users\\Vinny\\Documents\\HeyCharlie Analysis Repo\\analysis\\src\\data\\location_df_analyses.py:74: FutureWarning: 'timestamp' is both an index level and a column label.\n",
      "Defaulting to column, but this will raise an ambiguity error in a future version\n",
      "  activity = user_loc_activity.sort_values('timestamp', ascending=True)\n",
      "C:\\Users\\Vinny\\Documents\\HeyCharlie Analysis Repo\\analysis\\src\\data\\location_df_analyses.py:74: FutureWarning: 'timestamp' is both an index level and a column label.\n",
      "Defaulting to column, but this will raise an ambiguity error in a future version\n",
      "  activity = user_loc_activity.sort_values('timestamp', ascending=True)\n",
      "C:\\Users\\Vinny\\Documents\\HeyCharlie Analysis Repo\\analysis\\src\\data\\location_df_analyses.py:74: FutureWarning: 'timestamp' is both an index level and a column label.\n",
      "Defaulting to column, but this will raise an ambiguity error in a future version\n",
      "  activity = user_loc_activity.sort_values('timestamp', ascending=True)\n",
      "C:\\Users\\Vinny\\Documents\\HeyCharlie Analysis Repo\\analysis\\src\\data\\location_df_analyses.py:74: FutureWarning: 'timestamp' is both an index level and a column label.\n",
      "Defaulting to column, but this will raise an ambiguity error in a future version\n",
      "  activity = user_loc_activity.sort_values('timestamp', ascending=True)\n",
      "C:\\Users\\Vinny\\Documents\\HeyCharlie Analysis Repo\\analysis\\src\\data\\location_df_analyses.py:74: FutureWarning: 'timestamp' is both an index level and a column label.\n",
      "Defaulting to column, but this will raise an ambiguity error in a future version\n",
      "  activity = user_loc_activity.sort_values('timestamp', ascending=True)\n",
      "C:\\Users\\Vinny\\Documents\\HeyCharlie Analysis Repo\\analysis\\src\\data\\location_df_analyses.py:74: FutureWarning: 'timestamp' is both an index level and a column label.\n",
      "Defaulting to column, but this will raise an ambiguity error in a future version\n",
      "  activity = user_loc_activity.sort_values('timestamp', ascending=True)\n",
      "C:\\Users\\Vinny\\Documents\\HeyCharlie Analysis Repo\\analysis\\src\\data\\location_df_analyses.py:74: FutureWarning: 'timestamp' is both an index level and a column label.\n",
      "Defaulting to column, but this will raise an ambiguity error in a future version\n",
      "  activity = user_loc_activity.sort_values('timestamp', ascending=True)\n",
      "C:\\Users\\Vinny\\Documents\\HeyCharlie Analysis Repo\\analysis\\src\\data\\location_df_analyses.py:74: FutureWarning: 'timestamp' is both an index level and a column label.\n",
      "Defaulting to column, but this will raise an ambiguity error in a future version\n",
      "  activity = user_loc_activity.sort_values('timestamp', ascending=True)\n"
     ]
    },
    {
     "name": "stdout",
     "output_type": "stream",
     "text": [
      "Interim users_df datafile exists\n",
      "Dataset current for:\n",
      "['philoiz', 'ceecee', 'hayyogirl', 'joeybars', 'nepthys', 'joeybars7', 'inreverie', '+vinny', 'google', 'rusty', 'jmeow', 'username', 'rabbit', 'shanila', 'fenderman123', 'plush.mary', 'anonysauce', 'jake', 'upstate518', 'keirmaley']\n"
     ]
    },
    {
     "name": "stderr",
     "output_type": "stream",
     "text": [
      "C:\\Users\\Vinny\\Documents\\HeyCharlie Analysis Repo\\analysis\\src\\data\\location_df_analyses.py:74: FutureWarning: 'timestamp' is both an index level and a column label.\n",
      "Defaulting to column, but this will raise an ambiguity error in a future version\n",
      "  activity = user_loc_activity.sort_values('timestamp', ascending=True)\n"
     ]
    }
   ],
   "source": [
    "manual_usernames = ['emily', '+vinny', 'jake', 'hayyogirl', 'Rabbit', 'username']\n",
    "manual_usernames = ['inreverie', 'jake', 'username', 'rabbit',\n",
    "       'hayyogirl', '+vinny', 'joeybars7', 'joeybars', 'rusty', 'upstate518',\n",
    "       'fenderman123', 'philoiz', 'ceecee', 'anonysauce', 'keirmaley',\n",
    "       'nepthys', 'plush.mary', 'jmeow', 'shanila', 'google', 'nimaghafari']\n",
    "today = dt.date.today()\n",
    "usernames = make_dataset.refresh_user_data(manual_usernames, PROJ_ROOT, today)\n",
    "# Re-pulls raw data and refreshes basic interim data files: users_df.pkl \n",
    "# and a bunch for each user: filename + username + '.pkl'\n",
    "#   contacts_df_, day_comm_log_df_, week_comm_log_df_\n",
    "#   locations_df_, loc_log_df_, day_loc_log_df_, week_loc_log_df_"
   ]
  },
  {
   "cell_type": "markdown",
   "metadata": {},
   "source": [
    "#### Set Interested Date Indices"
   ]
  },
  {
   "cell_type": "code",
   "execution_count": 4,
   "metadata": {},
   "outputs": [
    {
     "name": "stdout",
     "output_type": "stream",
     "text": [
      "DatetimeIndex(['2018-12-31', '2019-01-07', '2019-01-14', '2019-01-21',\n",
      "               '2019-01-28'],\n",
      "              dtype='datetime64[ns]', freq='W-MON')\n"
     ]
    }
   ],
   "source": [
    "date_indices = pd.date_range(today - dt.timedelta(35), today + dt.timedelta(0), freq='W-MON')\n",
    "print(date_indices)"
   ]
  },
  {
   "cell_type": "markdown",
   "metadata": {},
   "source": [
    "### Establish interim data path, open some data files"
   ]
  },
  {
   "cell_type": "code",
   "execution_count": 5,
   "metadata": {
    "scrolled": true
   },
   "outputs": [],
   "source": [
    "from data import user_df_setup\n",
    "\n",
    "interim_data_file_path = os.path.join(PROJ_ROOT,\n",
    "                                 \"data\",\n",
    "                                 \"interim\",\n",
    "                                 \"full_users_df.pkl\")\n",
    "users_df = pd.read_pickle(interim_data_file_path)\n",
    "raw_data_file_path = os.path.join(PROJ_ROOT,\n",
    "                             \"data\",\n",
    "                             \"raw\",\n",
    "                             \"users_df.pkl\")\n",
    "raw_users_df = pd.read_pickle(raw_data_file_path)\n",
    "\n",
    "# raw_users_df\n",
    "# raw_users_df[['username', 'timeCreated']].sort_values('timeCreated', ascending = False).head(20)\n",
    "# all_users_df.sort_values('date_created', ascending = False).head(20)\n",
    "# all_users_df.head(20)"
   ]
  },
  {
   "cell_type": "markdown",
   "metadata": {},
   "source": [
    "#### Pulling communication, location data into user dictionaries"
   ]
  },
  {
   "cell_type": "code",
   "execution_count": 7,
   "metadata": {},
   "outputs": [],
   "source": [
    "interim_data_path = os.path.join(PROJ_ROOT,\n",
    "                                 \"data\",\n",
    "                                 \"interim\")\n",
    "raw_data_file_path = os.path.join(PROJ_ROOT,\n",
    "                                 \"data\",\n",
    "                                 \"raw\")\n",
    "daily_comm_dict = {}\n",
    "\n",
    "for username in usernames:\n",
    "    interim_comm_data_file_path = os.path.join(interim_data_path, 'day_comm_log_df_' + username + '.pkl')\n",
    "    daily_comm_df = pd.read_pickle(interim_comm_data_file_path)\n",
    "    daily_comm_dict[username] = daily_comm_df\n",
    "    \n",
    "#     interim_contact_data_file_path = os.path.join(interim_data_path, 'contacts_df_' + username + '.pkl')\n",
    "#     contacts_df = pd.read_pickle(interim_contact_data_file_path)\n",
    "#     contacts_dict[username] = contacts_df\n",
    "    \n",
    "#     interim_loc_data_file_path = os.path.join(interim_data_path, 'week_loc_log_df_' + username + '.pkl')\n",
    "#     weekly_loc_log_df = pd.read_pickle(interim_loc_data_file_path)\n",
    "#     weekly_loc_log_dict[username] = weekly_loc_log_df\n",
    "    \n",
    "#     locations_data_file_path = os.path.join(interim_data_path, 'locations_df_' + username + '.pkl')\n",
    "#     locations_df = pd.read_pickle(locations_data_file_path)\n",
    "#     locations_dict[username] = locations_df"
   ]
  },
  {
   "cell_type": "code",
   "execution_count": null,
   "metadata": {},
   "outputs": [],
   "source": []
  },
  {
   "cell_type": "code",
   "execution_count": null,
   "metadata": {},
   "outputs": [],
   "source": []
  },
  {
   "cell_type": "code",
   "execution_count": null,
   "metadata": {},
   "outputs": [],
   "source": []
  },
  {
   "cell_type": "code",
   "execution_count": null,
   "metadata": {},
   "outputs": [],
   "source": []
  },
  {
   "cell_type": "code",
   "execution_count": null,
   "metadata": {},
   "outputs": [],
   "source": []
  },
  {
   "cell_type": "code",
   "execution_count": null,
   "metadata": {},
   "outputs": [],
   "source": []
  },
  {
   "cell_type": "code",
   "execution_count": null,
   "metadata": {},
   "outputs": [],
   "source": []
  },
  {
   "cell_type": "code",
   "execution_count": null,
   "metadata": {},
   "outputs": [],
   "source": [
    "# weekly_loc_log_dict['+vinny'].columns"
   ]
  },
  {
   "cell_type": "markdown",
   "metadata": {},
   "source": [
    "#### Pulling notifictaion dict"
   ]
  },
  {
   "cell_type": "code",
   "execution_count": 8,
   "metadata": {
    "scrolled": true
   },
   "outputs": [
    {
     "name": "stdout",
     "output_type": "stream",
     "text": [
      "Username not found: []\n",
      "5bf30d1a0760320010e58ec0\n",
      "5bf314f90760320010e58ec3\n",
      "5beb26500eb5fd0010495e08\n",
      "                             timestamp                 type  \\\n",
      "_id                                                           \n",
      "5beb496f0eb5fd0010495e30  1.542146e+12  daily-task-question   \n",
      "5bedec7c1dc2970010696e42  1.542319e+12  daily-task-question   \n",
      "5bf08f5f0eb5fd0010495ec0  1.542492e+12  daily-task-question   \n",
      "5bf332530760320010e58ecf  1.542665e+12  daily-task-question   \n",
      "5bf483d1f434f50010c25512  1.542751e+12  first-week-question   \n",
      "\n",
      "                                            userId  \n",
      "_id                                                 \n",
      "5beb496f0eb5fd0010495e30  5beb26500eb5fd0010495e08  \n",
      "5bedec7c1dc2970010696e42  5beb26500eb5fd0010495e08  \n",
      "5bf08f5f0eb5fd0010495ec0  5beb26500eb5fd0010495e08  \n",
      "5bf332530760320010e58ecf  5beb26500eb5fd0010495e08  \n",
      "5bf483d1f434f50010c25512  5beb26500eb5fd0010495e08  \n",
      "5bec3e721dc2970010696e0f\n",
      "5bf371bbf434f50010c254d0\n",
      "                             timestamp                          type  \\\n",
      "_id                                                                    \n",
      "5bf3743cf434f50010c254da  1.542682e+12           daily-task-question   \n",
      "5bf5a3640760320010e58f6b  1.542825e+12              sent-sms-warning   \n",
      "5bf5dee40760320010e58f7b  1.542840e+12           daily-task-question   \n",
      "5bf78a9c0760320010e58fbf  1.542950e+12         outgoing-call-warning   \n",
      "5bf78aa9f434f50010c255a4  1.542950e+12  outgoing-call-warning-second   \n",
      "\n",
      "                                            userId  \n",
      "_id                                                 \n",
      "5bf3743cf434f50010c254da  5bf371bbf434f50010c254d0  \n",
      "5bf5a3640760320010e58f6b  5bf371bbf434f50010c254d0  \n",
      "5bf5dee40760320010e58f7b  5bf371bbf434f50010c254d0  \n",
      "5bf78a9c0760320010e58fbf  5bf371bbf434f50010c254d0  \n",
      "5bf78aa9f434f50010c255a4  5bf371bbf434f50010c254d0  \n",
      "5bec3a721dc2970010696df2\n",
      "                             timestamp              type  \\\n",
      "_id                                                        \n",
      "5bec3d101dc2970010696e07  1.542209e+12  geofence-warning   \n",
      "5bec40731dc2970010696e15  1.542210e+12  geofence-warning   \n",
      "\n",
      "                                            userId  \n",
      "_id                                                 \n",
      "5bec3d101dc2970010696e07  5bec3a721dc2970010696df2  \n",
      "5bec40731dc2970010696e15  5bec3a721dc2970010696df2  \n",
      "5be9a92a1dc2970010696d6a\n",
      "5bec3a6b1dc2970010696def\n",
      "                             timestamp                 type  \\\n",
      "_id                                                           \n",
      "5bec3d821dc2970010696e0c  1.542209e+12     geofence-warning   \n",
      "5bec3e9b1dc2970010696e12  1.542209e+12     sent-sms-warning   \n",
      "5bec42971dc2970010696e18  1.542210e+12     sent-sms-warning   \n",
      "5bec45730eb5fd0010495e5a  1.542211e+12     geofence-warning   \n",
      "5beca1620eb5fd0010495e6e  1.542234e+12  daily-task-question   \n",
      "\n",
      "                                            userId  \n",
      "_id                                                 \n",
      "5bec3d821dc2970010696e0c  5bec3a6b1dc2970010696def  \n",
      "5bec3e9b1dc2970010696e12  5bec3a6b1dc2970010696def  \n",
      "5bec42971dc2970010696e18  5bec3a6b1dc2970010696def  \n",
      "5bec45730eb5fd0010495e5a  5bec3a6b1dc2970010696def  \n",
      "5beca1620eb5fd0010495e6e  5bec3a6b1dc2970010696def  \n",
      "5bf47741f434f50010c25507\n",
      "5bf0f777f434f50010c25494\n",
      "                             timestamp                 type  \\\n",
      "_id                                                           \n",
      "5bf0f779f434f50010c25497  1.542519e+12  daily-task-question   \n",
      "\n",
      "                                            userId  \n",
      "_id                                                 \n",
      "5bf0f779f434f50010c25497  5bf0f777f434f50010c25494  \n",
      "5bf3d03b0760320010e58efe\n",
      "                             timestamp                   type  \\\n",
      "_id                                                             \n",
      "5bf4ae270760320010e58f36  1.542762e+12    daily-task-question   \n",
      "5bf734d7f434f50010c25595  1.542928e+12       sent-sms-warning   \n",
      "5bf751160760320010e58fb4  1.542935e+12    daily-task-question   \n",
      "5bf9f411a0d6d00010c8f671  1.543108e+12    daily-task-question   \n",
      "5bfa1411f434f50010c25605  1.543116e+12  auto-response-warning   \n",
      "\n",
      "                                            userId  \n",
      "_id                                                 \n",
      "5bf4ae270760320010e58f36  5bf3d03b0760320010e58efe  \n",
      "5bf734d7f434f50010c25595  5bf3d03b0760320010e58efe  \n",
      "5bf751160760320010e58fb4  5bf3d03b0760320010e58efe  \n",
      "5bf9f411a0d6d00010c8f671  5bf3d03b0760320010e58efe  \n",
      "5bfa1411f434f50010c25605  5bf3d03b0760320010e58efe  \n",
      "5be9ee601dc2970010696d8c\n",
      "                             timestamp                 type  \\\n",
      "_id                                                           \n",
      "5bea009f1dc2970010696d98  1.542062e+12  daily-task-question   \n",
      "5bec9b131dc2970010696e22  1.542233e+12  daily-task-question   \n",
      "5bef3e1a1dc2970010696e5d  1.542406e+12  daily-task-question   \n",
      "5bf1e1180760320010e58eb1  1.542578e+12  daily-task-question   \n",
      "5bf33299f434f50010c254c1  1.542665e+12  first-week-question   \n",
      "\n",
      "                                            userId  \n",
      "_id                                                 \n",
      "5bea009f1dc2970010696d98  5be9ee601dc2970010696d8c  \n",
      "5bec9b131dc2970010696e22  5be9ee601dc2970010696d8c  \n",
      "5bef3e1a1dc2970010696e5d  5be9ee601dc2970010696d8c  \n",
      "5bf1e1180760320010e58eb1  5be9ee601dc2970010696d8c  \n",
      "5bf33299f434f50010c254c1  5be9ee601dc2970010696d8c  \n",
      "5beaf0cf1dc2970010696da2\n",
      "                             timestamp                 type  \\\n",
      "_id                                                           \n",
      "5beb4a861dc2970010696ddd  1.542147e+12  daily-task-question   \n",
      "5bedec621dc2970010696e40  1.542319e+12  daily-task-question   \n",
      "5bf08fe40eb5fd0010495ec2  1.542492e+12  daily-task-question   \n",
      "\n",
      "                                            userId  \n",
      "_id                                                 \n",
      "5beb4a861dc2970010696ddd  5beaf0cf1dc2970010696da2  \n",
      "5bedec621dc2970010696e40  5beaf0cf1dc2970010696da2  \n",
      "5bf08fe40eb5fd0010495ec2  5beaf0cf1dc2970010696da2  \n",
      "5bf46c4ff434f50010c25502\n",
      "                             timestamp                     type  \\\n",
      "_id                                                               \n",
      "5bf48403f434f50010c25514  1.542751e+12      daily-task-question   \n",
      "5bf5eaa40760320010e58f7f  1.542843e+12    auto-response-warning   \n",
      "5bf5ebe70760320010e58f80  1.542843e+12         sent-sms-warning   \n",
      "5bf6e37bf434f50010c25584  1.542907e+12         sent-sms-warning   \n",
      "5bf6e3ca0760320010e58f98  1.542907e+12  sent-sms-warning-second   \n",
      "\n",
      "                                            userId  \n",
      "_id                                                 \n",
      "5bf48403f434f50010c25514  5bf46c4ff434f50010c25502  \n",
      "5bf5eaa40760320010e58f7f  5bf46c4ff434f50010c25502  \n",
      "5bf5ebe70760320010e58f80  5bf46c4ff434f50010c25502  \n",
      "5bf6e37bf434f50010c25584  5bf46c4ff434f50010c25502  \n",
      "5bf6e3ca0760320010e58f98  5bf46c4ff434f50010c25502  \n",
      "5bf3028cf434f50010c254ad\n",
      "5bf3a4fe0760320010e58ee3\n",
      "                             timestamp                   type  \\\n",
      "_id                                                             \n",
      "5bf487f10760320010e58f22  1.542752e+12    daily-task-question   \n",
      "5bf4dd5ff434f50010c25552  1.542774e+12  outgoing-call-warning   \n",
      "5bf500fdf434f50010c25554  1.542783e+12       sent-sms-warning   \n",
      "5bf646a9f434f50010c25578  1.542867e+12  auto-response-warning   \n",
      "5bf64732f434f50010c25579  1.542867e+12  incoming-call-warning   \n",
      "\n",
      "                                            userId  \n",
      "_id                                                 \n",
      "5bf487f10760320010e58f22  5bf3a4fe0760320010e58ee3  \n",
      "5bf4dd5ff434f50010c25552  5bf3a4fe0760320010e58ee3  \n",
      "5bf500fdf434f50010c25554  5bf3a4fe0760320010e58ee3  \n",
      "5bf646a9f434f50010c25578  5bf3a4fe0760320010e58ee3  \n",
      "5bf64732f434f50010c25579  5bf3a4fe0760320010e58ee3  \n",
      "5bf32b3cf434f50010c254b7\n",
      "                             timestamp                 type  \\\n",
      "_id                                                           \n",
      "5bf33b85f434f50010c254c2  1.542667e+12  daily-task-question   \n",
      "5bf5de63f434f50010c25572  1.542840e+12  daily-task-question   \n",
      "5bf87862a0d6d00010c8f650  1.543010e+12  daily-task-question   \n",
      "5bfb1b72f434f50010c25618  1.543183e+12  daily-task-question   \n",
      "5bfd405d33b2ea00100518ec  1.543324e+12       friend-scoring   \n",
      "\n",
      "                                            userId  \n",
      "_id                                                 \n",
      "5bf33b85f434f50010c254c2  5bf32b3cf434f50010c254b7  \n",
      "5bf5de63f434f50010c25572  5bf32b3cf434f50010c254b7  \n",
      "5bf87862a0d6d00010c8f650  5bf32b3cf434f50010c254b7  \n",
      "5bfb1b72f434f50010c25618  5bf32b3cf434f50010c254b7  \n",
      "5bfd405d33b2ea00100518ec  5bf32b3cf434f50010c254b7  \n",
      "5be9b0490eb5fd0010495dc2\n",
      "                             timestamp                   type  \\\n",
      "_id                                                             \n",
      "5be9f2e81dc2970010696d97  1.542059e+12       sent-sms-warning   \n",
      "5bea23031dc2970010696d9c  1.542071e+12    daily-task-question   \n",
      "5bec7c920eb5fd0010495e67  1.542225e+12  auto-response-warning   \n",
      "5bec7f451dc2970010696e20  1.542226e+12       sent-sms-warning   \n",
      "5becc5f51dc2970010696e28  1.542244e+12    daily-task-question   \n",
      "\n",
      "                                            userId  \n",
      "_id                                                 \n",
      "5be9f2e81dc2970010696d97  5be9b0490eb5fd0010495dc2  \n",
      "5bea23031dc2970010696d9c  5be9b0490eb5fd0010495dc2  \n",
      "5bec7c920eb5fd0010495e67  5be9b0490eb5fd0010495dc2  \n",
      "5bec7f451dc2970010696e20  5be9b0490eb5fd0010495dc2  \n",
      "5becc5f51dc2970010696e28  5be9b0490eb5fd0010495dc2  \n",
      "5bf2de44f434f50010c254a3\n",
      "                             timestamp                 type  \\\n",
      "_id                                                           \n",
      "5bf3337a0760320010e58ed3  1.542665e+12  daily-task-question   \n",
      "5bf5d672f434f50010c2556f  1.542838e+12  daily-task-question   \n",
      "5bf8797ea0d6d00010c8f651  1.543011e+12  daily-task-question   \n",
      "5bfb1d7af434f50010c2561b  1.543184e+12  daily-task-question   \n",
      "5bfdbeba33b2ea0010051902  1.543356e+12  daily-task-question   \n",
      "\n",
      "                                            userId  \n",
      "_id                                                 \n",
      "5bf3337a0760320010e58ed3  5bf2de44f434f50010c254a3  \n",
      "5bf5d672f434f50010c2556f  5bf2de44f434f50010c254a3  \n",
      "5bf8797ea0d6d00010c8f651  5bf2de44f434f50010c254a3  \n",
      "5bfb1d7af434f50010c2561b  5bf2de44f434f50010c254a3  \n",
      "5bfdbeba33b2ea0010051902  5bf2de44f434f50010c254a3  \n",
      "5bf34b00f434f50010c254c4\n",
      "                             timestamp                 type  \\\n",
      "_id                                                           \n",
      "5bf35f9d0760320010e58ed9  1.542676e+12  daily-task-question   \n",
      "\n",
      "                                            userId  \n",
      "_id                                                 \n",
      "5bf35f9d0760320010e58ed9  5bf34b00f434f50010c254c4  \n"
     ]
    }
   ],
   "source": [
    "notification_dict = make_dataset.make_notification_data(users_df, usernames, PROJ_ROOT)"
   ]
  },
  {
   "cell_type": "markdown",
   "metadata": {},
   "source": [
    "## Plotting"
   ]
  },
  {
   "cell_type": "code",
   "execution_count": 9,
   "metadata": {},
   "outputs": [],
   "source": [
    "from visualization import generate_report_charts\n",
    "\n",
    "chart_path = os.path.join(PROJ_ROOT,\n",
    "                          \"notebooks\",\n",
    "                          \"figures\")"
   ]
  },
  {
   "cell_type": "code",
   "execution_count": 10,
   "metadata": {},
   "outputs": [],
   "source": [
    "# comm_days_line_chart_cols = ['total_comm_days', 'risky_comm_days', 'supportive_comm_days']\n",
    "\n",
    "# for username in usernames:\n",
    "#     print(username)\n",
    "#     comm_days_line_chart_data = weekly_comm_dict[username][comm_days_line_chart_cols]\n",
    "# #     comm_days_line_chart_data = comm_days_line_chart_data[min(date_indices):max(date_indices)]\n",
    "#     comm_days_line_chart_data = comm_days_line_chart_data[(comm_days_line_chart_data.index >= date_indices[0])]\n",
    "# #     comm_days_line_chart_data = comm_days_line_chart_data[(comm_days_line_chart_data.index >= date_indices[0]) & (comm_days_line_chart_data.index <= date_indices[-1])]\n",
    "# #     [comm_days_line_chart_data.index >= date_indices[0]]\n",
    "#     generate_report_charts.comm_days_line_chart([username], date_indices, comm_days_line_chart_data, chart_path, show=True)"
   ]
  },
  {
   "cell_type": "code",
   "execution_count": 11,
   "metadata": {},
   "outputs": [],
   "source": [
    "# print(comm_days_line_chart_data[(comm_days_line_chart_data.index >= min(date_indices))])"
   ]
  },
  {
   "cell_type": "code",
   "execution_count": 12,
   "metadata": {},
   "outputs": [
    {
     "name": "stdout",
     "output_type": "stream",
     "text": [
      "philoiz\n",
      "            total_comm  risky_comm  neutral_comm  supportive_comm  \\\n",
      "2018-12-31         0.0         0.0           0.0              0.0   \n",
      "2019-01-01         0.0         0.0           0.0              0.0   \n",
      "2019-01-02         0.0         0.0           0.0              0.0   \n",
      "2019-01-03         0.0         0.0           0.0              0.0   \n",
      "2019-01-04         0.0         0.0           0.0              0.0   \n",
      "2019-01-05         0.0         0.0           0.0              0.0   \n",
      "2019-01-06         0.0         0.0           0.0              0.0   \n",
      "2019-01-07         0.0         0.0           0.0              0.0   \n",
      "2019-01-08         0.0         0.0           0.0              0.0   \n",
      "2019-01-09         0.0         0.0           0.0              0.0   \n",
      "2019-01-10         0.0         0.0           0.0              0.0   \n",
      "2019-01-11         0.0         0.0           0.0              0.0   \n",
      "2019-01-12         0.0         0.0           0.0              0.0   \n",
      "2019-01-13         0.0         0.0           0.0              0.0   \n",
      "2019-01-14         0.0         0.0           0.0              0.0   \n",
      "2019-01-15         0.0         0.0           0.0              0.0   \n",
      "2019-01-16         0.0         0.0           0.0              0.0   \n",
      "2019-01-17         0.0         0.0           0.0              0.0   \n",
      "2019-01-18         0.0         0.0           0.0              0.0   \n",
      "2019-01-19         0.0         0.0           0.0              0.0   \n",
      "2019-01-20         0.0         0.0           0.0              0.0   \n",
      "2019-01-21         0.0         0.0           0.0              0.0   \n",
      "2019-01-22         0.0         0.0           0.0              0.0   \n",
      "2019-01-23         0.0         0.0           0.0              0.0   \n",
      "2019-01-24         0.0         0.0           0.0              0.0   \n",
      "2019-01-25         0.0         0.0           0.0              0.0   \n",
      "2019-01-26         0.0         0.0           0.0              0.0   \n",
      "2019-01-27         0.0         0.0           0.0              0.0   \n",
      "2019-01-28         0.0         0.0           0.0              0.0   \n",
      "2019-01-29         0.0         0.0           0.0              0.0   \n",
      "2019-01-30         0.0         0.0           0.0              0.0   \n",
      "2019-01-31         0.0         0.0           0.0              0.0   \n",
      "2019-02-01         0.0         0.0           0.0              0.0   \n",
      "2019-02-02         0.0         0.0           0.0              0.0   \n",
      "2019-02-03         0.0         0.0           0.0              0.0   \n",
      "2019-02-04         0.0         0.0           0.0              0.0   \n",
      "2019-02-05         0.0         0.0           0.0              0.0   \n",
      "2019-02-06         0.0         0.0           0.0              0.0   \n",
      "2019-02-07         0.0         0.0           0.0              0.0   \n",
      "2019-02-08         0.0         0.0           0.0              0.0   \n",
      "\n",
      "            unrated_comm  \n",
      "2018-12-31           0.0  \n",
      "2019-01-01           0.0  \n",
      "2019-01-02           0.0  \n",
      "2019-01-03           0.0  \n",
      "2019-01-04           0.0  \n",
      "2019-01-05           0.0  \n",
      "2019-01-06           0.0  \n",
      "2019-01-07           0.0  \n",
      "2019-01-08           0.0  \n",
      "2019-01-09           0.0  \n",
      "2019-01-10           0.0  \n",
      "2019-01-11           0.0  \n",
      "2019-01-12           0.0  \n",
      "2019-01-13           0.0  \n",
      "2019-01-14           0.0  \n",
      "2019-01-15           0.0  \n",
      "2019-01-16           0.0  \n",
      "2019-01-17           0.0  \n",
      "2019-01-18           0.0  \n",
      "2019-01-19           0.0  \n",
      "2019-01-20           0.0  \n",
      "2019-01-21           0.0  \n",
      "2019-01-22           0.0  \n",
      "2019-01-23           0.0  \n",
      "2019-01-24           0.0  \n",
      "2019-01-25           0.0  \n",
      "2019-01-26           0.0  \n",
      "2019-01-27           0.0  \n",
      "2019-01-28           0.0  \n",
      "2019-01-29           0.0  \n",
      "2019-01-30           0.0  \n",
      "2019-01-31           0.0  \n",
      "2019-02-01           0.0  \n",
      "2019-02-02           0.0  \n",
      "2019-02-03           0.0  \n",
      "2019-02-04           0.0  \n",
      "2019-02-05           0.0  \n",
      "2019-02-06           0.0  \n",
      "2019-02-07           0.0  \n",
      "2019-02-08           0.0  \n"
     ]
    },
    {
     "ename": "ValueError",
     "evalue": "shape mismatch: objects cannot be broadcast to a single shape",
     "output_type": "error",
     "traceback": [
      "\u001b[1;31m---------------------------------------------------------------------------\u001b[0m",
      "\u001b[1;31mValueError\u001b[0m                                Traceback (most recent call last)",
      "\u001b[1;32m<ipython-input-12-d16d13c58118>\u001b[0m in \u001b[0;36m<module>\u001b[1;34m\u001b[0m\n\u001b[0;32m      6\u001b[0m     \u001b[0mprint\u001b[0m\u001b[1;33m(\u001b[0m\u001b[0mcomm_vol_bar_chart_data\u001b[0m\u001b[1;33m[\u001b[0m\u001b[0mcomm_vol_bar_chart_data\u001b[0m\u001b[1;33m.\u001b[0m\u001b[0mindex\u001b[0m \u001b[1;33m>=\u001b[0m \u001b[0mdate_indices\u001b[0m\u001b[1;33m[\u001b[0m\u001b[1;36m0\u001b[0m\u001b[1;33m]\u001b[0m\u001b[1;33m]\u001b[0m\u001b[1;33m)\u001b[0m\u001b[1;33m\u001b[0m\u001b[1;33m\u001b[0m\u001b[0m\n\u001b[0;32m      7\u001b[0m     \u001b[0mcomm_vol_bar_chart_data\u001b[0m \u001b[1;33m=\u001b[0m \u001b[0mcomm_vol_bar_chart_data\u001b[0m\u001b[1;33m[\u001b[0m\u001b[1;33m(\u001b[0m\u001b[0mcomm_vol_bar_chart_data\u001b[0m\u001b[1;33m.\u001b[0m\u001b[0mindex\u001b[0m \u001b[1;33m>=\u001b[0m \u001b[0mdate_indices\u001b[0m\u001b[1;33m[\u001b[0m\u001b[1;36m0\u001b[0m\u001b[1;33m]\u001b[0m\u001b[1;33m)\u001b[0m \u001b[1;33m&\u001b[0m \u001b[1;33m(\u001b[0m\u001b[0mcomm_vol_bar_chart_data\u001b[0m\u001b[1;33m.\u001b[0m\u001b[0mindex\u001b[0m \u001b[1;33m<=\u001b[0m \u001b[0mdate_indices\u001b[0m\u001b[1;33m[\u001b[0m\u001b[1;33m-\u001b[0m\u001b[1;36m1\u001b[0m\u001b[1;33m]\u001b[0m\u001b[1;33m)\u001b[0m\u001b[1;33m]\u001b[0m\u001b[1;33m\u001b[0m\u001b[1;33m\u001b[0m\u001b[0m\n\u001b[1;32m----> 8\u001b[1;33m     \u001b[0mgenerate_report_charts\u001b[0m\u001b[1;33m.\u001b[0m\u001b[0mcomm_vol_bar_chart\u001b[0m\u001b[1;33m(\u001b[0m\u001b[1;33m[\u001b[0m\u001b[0musername\u001b[0m\u001b[1;33m]\u001b[0m\u001b[1;33m,\u001b[0m \u001b[0mdate_indices\u001b[0m\u001b[1;33m,\u001b[0m \u001b[0mcomm_vol_bar_chart_data\u001b[0m\u001b[1;33m,\u001b[0m \u001b[0mchart_path\u001b[0m\u001b[1;33m,\u001b[0m \u001b[0mshow\u001b[0m\u001b[1;33m=\u001b[0m\u001b[1;32mTrue\u001b[0m\u001b[1;33m)\u001b[0m\u001b[1;33m\u001b[0m\u001b[1;33m\u001b[0m\u001b[0m\n\u001b[0m\u001b[0;32m      9\u001b[0m \u001b[1;33m\u001b[0m\u001b[0m\n\u001b[0;32m     10\u001b[0m \u001b[1;33m\u001b[0m\u001b[0m\n",
      "\u001b[1;32m~\\Documents\\HeyCharlie Analysis Repo\\analysis\\src\\visualization\\generate_report_charts.py\u001b[0m in \u001b[0;36mcomm_vol_bar_chart\u001b[1;34m(usernames, date_indices, comm_vol_bar_chart_data, report_chart_path, **kwargs)\u001b[0m\n\u001b[0;32m     89\u001b[0m                 \u001b[1;32mfor\u001b[0m \u001b[0mi\u001b[0m\u001b[1;33m,\u001b[0m \u001b[0mcol\u001b[0m \u001b[1;32min\u001b[0m \u001b[0menumerate\u001b[0m\u001b[1;33m(\u001b[0m\u001b[0mdata\u001b[0m\u001b[1;33m[\u001b[0m\u001b[0mcols\u001b[0m\u001b[1;33m]\u001b[0m\u001b[1;33m)\u001b[0m\u001b[1;33m:\u001b[0m\u001b[1;33m\u001b[0m\u001b[1;33m\u001b[0m\u001b[0m\n\u001b[0;32m     90\u001b[0m                         \u001b[1;32mif\u001b[0m \u001b[0mi\u001b[0m \u001b[1;33m==\u001b[0m \u001b[1;36m0\u001b[0m\u001b[1;33m:\u001b[0m\u001b[1;33m\u001b[0m\u001b[1;33m\u001b[0m\u001b[0m\n\u001b[1;32m---> 91\u001b[1;33m                                 \u001b[0max\u001b[0m\u001b[1;33m.\u001b[0m\u001b[0mbar\u001b[0m\u001b[1;33m(\u001b[0m\u001b[0mdate_strings\u001b[0m\u001b[1;33m,\u001b[0m \u001b[0mdata\u001b[0m\u001b[1;33m[\u001b[0m\u001b[0mcol\u001b[0m\u001b[1;33m]\u001b[0m\u001b[1;33m,\u001b[0m \u001b[1;36m0.7\u001b[0m\u001b[1;33m,\u001b[0m \u001b[0mcolor\u001b[0m\u001b[1;33m=\u001b[0m\u001b[0mcolors\u001b[0m\u001b[1;33m[\u001b[0m\u001b[0mi\u001b[0m\u001b[1;33m]\u001b[0m\u001b[1;33m,\u001b[0m \u001b[0mlabel\u001b[0m\u001b[1;33m=\u001b[0m\u001b[0mlabels\u001b[0m\u001b[1;33m[\u001b[0m\u001b[0mi\u001b[0m\u001b[1;33m]\u001b[0m\u001b[1;33m)\u001b[0m\u001b[1;33m\u001b[0m\u001b[1;33m\u001b[0m\u001b[0m\n\u001b[0m\u001b[0;32m     92\u001b[0m                                 \u001b[0mrolling_total\u001b[0m \u001b[1;33m=\u001b[0m \u001b[0mdata\u001b[0m\u001b[1;33m[\u001b[0m\u001b[0mcol\u001b[0m\u001b[1;33m]\u001b[0m\u001b[1;33m\u001b[0m\u001b[1;33m\u001b[0m\u001b[0m\n\u001b[0;32m     93\u001b[0m                         \u001b[1;32melse\u001b[0m\u001b[1;33m:\u001b[0m\u001b[1;33m\u001b[0m\u001b[1;33m\u001b[0m\u001b[0m\n",
      "\u001b[1;32mc:\\users\\vinny\\appdata\\local\\programs\\python\\python37\\lib\\site-packages\\matplotlib\\__init__.py\u001b[0m in \u001b[0;36minner\u001b[1;34m(ax, data, *args, **kwargs)\u001b[0m\n\u001b[0;32m   1808\u001b[0m                         \u001b[1;34m\"the Matplotlib list!)\"\u001b[0m \u001b[1;33m%\u001b[0m \u001b[1;33m(\u001b[0m\u001b[0mlabel_namer\u001b[0m\u001b[1;33m,\u001b[0m \u001b[0mfunc\u001b[0m\u001b[1;33m.\u001b[0m\u001b[0m__name__\u001b[0m\u001b[1;33m)\u001b[0m\u001b[1;33m,\u001b[0m\u001b[1;33m\u001b[0m\u001b[1;33m\u001b[0m\u001b[0m\n\u001b[0;32m   1809\u001b[0m                         RuntimeWarning, stacklevel=2)\n\u001b[1;32m-> 1810\u001b[1;33m             \u001b[1;32mreturn\u001b[0m \u001b[0mfunc\u001b[0m\u001b[1;33m(\u001b[0m\u001b[0max\u001b[0m\u001b[1;33m,\u001b[0m \u001b[1;33m*\u001b[0m\u001b[0margs\u001b[0m\u001b[1;33m,\u001b[0m \u001b[1;33m**\u001b[0m\u001b[0mkwargs\u001b[0m\u001b[1;33m)\u001b[0m\u001b[1;33m\u001b[0m\u001b[1;33m\u001b[0m\u001b[0m\n\u001b[0m\u001b[0;32m   1811\u001b[0m \u001b[1;33m\u001b[0m\u001b[0m\n\u001b[0;32m   1812\u001b[0m         inner.__doc__ = _add_data_doc(inner.__doc__,\n",
      "\u001b[1;32mc:\\users\\vinny\\appdata\\local\\programs\\python\\python37\\lib\\site-packages\\matplotlib\\axes\\_axes.py\u001b[0m in \u001b[0;36mbar\u001b[1;34m(self, x, height, width, bottom, align, **kwargs)\u001b[0m\n\u001b[0;32m   2249\u001b[0m         x, height, width, y, linewidth = np.broadcast_arrays(\n\u001b[0;32m   2250\u001b[0m             \u001b[1;31m# Make args iterable too.\u001b[0m\u001b[1;33m\u001b[0m\u001b[1;33m\u001b[0m\u001b[1;33m\u001b[0m\u001b[0m\n\u001b[1;32m-> 2251\u001b[1;33m             np.atleast_1d(x), height, width, y, linewidth)\n\u001b[0m\u001b[0;32m   2252\u001b[0m \u001b[1;33m\u001b[0m\u001b[0m\n\u001b[0;32m   2253\u001b[0m         \u001b[1;31m# Now that units have been converted, set the tick locations.\u001b[0m\u001b[1;33m\u001b[0m\u001b[1;33m\u001b[0m\u001b[1;33m\u001b[0m\u001b[0m\n",
      "\u001b[1;32mc:\\users\\vinny\\appdata\\local\\programs\\python\\python37\\lib\\site-packages\\numpy\\lib\\stride_tricks.py\u001b[0m in \u001b[0;36mbroadcast_arrays\u001b[1;34m(*args, **kwargs)\u001b[0m\n\u001b[0;32m    257\u001b[0m     \u001b[0margs\u001b[0m \u001b[1;33m=\u001b[0m \u001b[1;33m[\u001b[0m\u001b[0mnp\u001b[0m\u001b[1;33m.\u001b[0m\u001b[0marray\u001b[0m\u001b[1;33m(\u001b[0m\u001b[0m_m\u001b[0m\u001b[1;33m,\u001b[0m \u001b[0mcopy\u001b[0m\u001b[1;33m=\u001b[0m\u001b[1;32mFalse\u001b[0m\u001b[1;33m,\u001b[0m \u001b[0msubok\u001b[0m\u001b[1;33m=\u001b[0m\u001b[0msubok\u001b[0m\u001b[1;33m)\u001b[0m \u001b[1;32mfor\u001b[0m \u001b[0m_m\u001b[0m \u001b[1;32min\u001b[0m \u001b[0margs\u001b[0m\u001b[1;33m]\u001b[0m\u001b[1;33m\u001b[0m\u001b[1;33m\u001b[0m\u001b[0m\n\u001b[0;32m    258\u001b[0m \u001b[1;33m\u001b[0m\u001b[0m\n\u001b[1;32m--> 259\u001b[1;33m     \u001b[0mshape\u001b[0m \u001b[1;33m=\u001b[0m \u001b[0m_broadcast_shape\u001b[0m\u001b[1;33m(\u001b[0m\u001b[1;33m*\u001b[0m\u001b[0margs\u001b[0m\u001b[1;33m)\u001b[0m\u001b[1;33m\u001b[0m\u001b[1;33m\u001b[0m\u001b[0m\n\u001b[0m\u001b[0;32m    260\u001b[0m \u001b[1;33m\u001b[0m\u001b[0m\n\u001b[0;32m    261\u001b[0m     \u001b[1;32mif\u001b[0m \u001b[0mall\u001b[0m\u001b[1;33m(\u001b[0m\u001b[0marray\u001b[0m\u001b[1;33m.\u001b[0m\u001b[0mshape\u001b[0m \u001b[1;33m==\u001b[0m \u001b[0mshape\u001b[0m \u001b[1;32mfor\u001b[0m \u001b[0marray\u001b[0m \u001b[1;32min\u001b[0m \u001b[0margs\u001b[0m\u001b[1;33m)\u001b[0m\u001b[1;33m:\u001b[0m\u001b[1;33m\u001b[0m\u001b[1;33m\u001b[0m\u001b[0m\n",
      "\u001b[1;32mc:\\users\\vinny\\appdata\\local\\programs\\python\\python37\\lib\\site-packages\\numpy\\lib\\stride_tricks.py\u001b[0m in \u001b[0;36m_broadcast_shape\u001b[1;34m(*args)\u001b[0m\n\u001b[0;32m    191\u001b[0m     \u001b[1;31m# use the old-iterator because np.nditer does not handle size 0 arrays\u001b[0m\u001b[1;33m\u001b[0m\u001b[1;33m\u001b[0m\u001b[1;33m\u001b[0m\u001b[0m\n\u001b[0;32m    192\u001b[0m     \u001b[1;31m# consistently\u001b[0m\u001b[1;33m\u001b[0m\u001b[1;33m\u001b[0m\u001b[1;33m\u001b[0m\u001b[0m\n\u001b[1;32m--> 193\u001b[1;33m     \u001b[0mb\u001b[0m \u001b[1;33m=\u001b[0m \u001b[0mnp\u001b[0m\u001b[1;33m.\u001b[0m\u001b[0mbroadcast\u001b[0m\u001b[1;33m(\u001b[0m\u001b[1;33m*\u001b[0m\u001b[0margs\u001b[0m\u001b[1;33m[\u001b[0m\u001b[1;33m:\u001b[0m\u001b[1;36m32\u001b[0m\u001b[1;33m]\u001b[0m\u001b[1;33m)\u001b[0m\u001b[1;33m\u001b[0m\u001b[1;33m\u001b[0m\u001b[0m\n\u001b[0m\u001b[0;32m    194\u001b[0m     \u001b[1;31m# unfortunately, it cannot handle 32 or more arguments directly\u001b[0m\u001b[1;33m\u001b[0m\u001b[1;33m\u001b[0m\u001b[1;33m\u001b[0m\u001b[0m\n\u001b[0;32m    195\u001b[0m     \u001b[1;32mfor\u001b[0m \u001b[0mpos\u001b[0m \u001b[1;32min\u001b[0m \u001b[0mrange\u001b[0m\u001b[1;33m(\u001b[0m\u001b[1;36m32\u001b[0m\u001b[1;33m,\u001b[0m \u001b[0mlen\u001b[0m\u001b[1;33m(\u001b[0m\u001b[0margs\u001b[0m\u001b[1;33m)\u001b[0m\u001b[1;33m,\u001b[0m \u001b[1;36m31\u001b[0m\u001b[1;33m)\u001b[0m\u001b[1;33m:\u001b[0m\u001b[1;33m\u001b[0m\u001b[1;33m\u001b[0m\u001b[0m\n",
      "\u001b[1;31mValueError\u001b[0m: shape mismatch: objects cannot be broadcast to a single shape"
     ]
    },
    {
     "data": {
      "image/png": "[encoded data removed]",
      "text/plain": [
       "<Figure size 432x288 with 1 Axes>"
      ]
     },
     "metadata": {
      "needs_background": "light"
     },
     "output_type": "display_data"
    }
   ],
   "source": [
    "comm_vol_bar_chart_cols = ['total_comm', 'risky_comm', 'neutral_comm', 'supportive_comm', 'unrated_comm']\n",
    "\n",
    "for username in usernames:\n",
    "    print(username)\n",
    "    comm_vol_bar_chart_data = daily_comm_dict[username][comm_vol_bar_chart_cols]\n",
    "    print(comm_vol_bar_chart_data[comm_vol_bar_chart_data.index >= date_indices[0]])\n",
    "    comm_vol_bar_chart_data = comm_vol_bar_chart_data[(comm_vol_bar_chart_data.index >= date_indices[0]) & (comm_vol_bar_chart_data.index <= date_indices[-1])]\n",
    "    generate_report_charts.comm_vol_bar_chart([username], date_indices, comm_vol_bar_chart_data, chart_path, show=True)\n",
    "\n",
    "    \n",
    "    "
   ]
  },
  {
   "cell_type": "markdown",
   "metadata": {},
   "source": [
    "### Contact Rating Distribution"
   ]
  },
  {
   "cell_type": "code",
   "execution_count": null,
   "metadata": {
    "scrolled": true
   },
   "outputs": [],
   "source": [
    "# users_df.head\n",
    "# contacts_dict['+vinny']"
   ]
  },
  {
   "cell_type": "code",
   "execution_count": null,
   "metadata": {},
   "outputs": [],
   "source": [
    "import matplotlib.pyplot as plt\n",
    "\n",
    "f, axarr = plt.subplots(len(usernames),figsize=(10,15), sharex = True, sharey = True)\n",
    "plt.tight_layout()\n",
    "\n",
    "for count, e in enumerate(usernames):  \n",
    "    unrated_threshold = users_df.loc[e, 'unrated_threshold']\n",
    "    risky_threshold = users_df.loc[e, 'risky_threshold']\n",
    "    supportive_threshold = users_df.loc[e, 'supportive_threshold']\n",
    "    \n",
    "    contacts_df = contacts_dict[e].sort_values('score', ascending = False)\n",
    "    unrated = contacts_df['score'][contacts_df['score'] < unrated_threshold]\n",
    "    risky = contacts_df['score'][(contacts_df['score'] >= unrated_threshold)\n",
    "                                                     & (contacts_df['score'] <= risky_threshold)]\n",
    "    neutral = contacts_df['score'][(contacts_df['score'] > risky_threshold)\n",
    "                                                     & (contacts_df['score'] < supportive_threshold)]\n",
    "    supportive = contacts_df['score'][(contacts_df['score'] >= supportive_threshold)]\n",
    "    \n",
    "    axarr[count].bar(supportive.index, supportive, 0.7, color = '#00cc00')\n",
    "    axarr[count].bar(neutral.index, neutral, 0.7, color = 'b')\n",
    "    axarr[count].bar(risky.index, risky, 0.7, color = '#ff6600')\n",
    "    axarr[count].bar(unrated.index, unrated, 0.7, color = '#C0C0C0')\n",
    "    axarr[count].set_title(e)"
   ]
  }
 ],
 "metadata": {
  "kernelspec": {
   "display_name": "Python 3",
   "language": "python",
   "name": "python3"
  },
  "language_info": {
   "codemirror_mode": {
    "name": "ipython",
    "version": 3
   },
   "file_extension": ".py",
   "mimetype": "text/x-python",
   "name": "python",
   "nbconvert_exporter": "python",
   "pygments_lexer": "ipython3",
   "version": "3.7.2"
  }
 },
 "nbformat": 4,
 "nbformat_minor": 2
}
