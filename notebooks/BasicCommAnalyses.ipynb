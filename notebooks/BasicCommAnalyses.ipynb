{
 "cells": [
  {
   "cell_type": "code",
   "execution_count": 1,
   "metadata": {},
   "outputs": [],
   "source": [
    "import os\n",
    "import datetime as dt\n",
    "import pandas as pd\n",
    "import csv"
   ]
  },
  {
   "cell_type": "markdown",
   "metadata": {},
   "source": [
    "### Importing Project Libraries"
   ]
  },
  {
   "cell_type": "code",
   "execution_count": 2,
   "metadata": {},
   "outputs": [],
   "source": [
    "# add the 'src' directory as one where we can import modules\n",
    "import sys\n",
    "import pathlib # __file__ isn't recognized in Jupyter, so we need this to get the root path\n",
    "path = pathlib.Path.cwd()\n",
    "PROJ_ROOT = path.parent \n",
    "src_dir = str(PROJ_ROOT / 'src')\n",
    "PROJ_ROOT = str(PROJ_ROOT)\n",
    "sys.path.append(src_dir)\n",
    "from data import make_dataset"
   ]
  },
  {
   "cell_type": "markdown",
   "metadata": {},
   "source": [
    "### Confirm that the data is up to date"
   ]
  },
  {
   "cell_type": "code",
   "execution_count": 3,
   "metadata": {},
   "outputs": [
    {
     "name": "stdout",
     "output_type": "stream",
     "text": [
      "Interim users_df datafile exists\n",
      "Data is up to date!\n"
     ]
    }
   ],
   "source": [
    "usernames = ['liamkl', 'vinoct18', 'vinoct24', 'emily2', 'zombeck']\n",
    "today = dt.date.today()\n",
    "usernames = make_dataset.refresh_user_data(usernames, PROJ_ROOT, today)\n",
    "# Re-pulls raw data and refreshes basic interim data files: users_df.pkl \n",
    "# and a bunch for each user: filename + username + '.pkl'\n",
    "#   contacts_df_, day_comm_log_df_, week_comm_log_df_\n",
    "#   locations_df_, loc_log_df_, day_loc_log_df_, week_loc_log_df_"
   ]
  },
  {
   "cell_type": "markdown",
   "metadata": {},
   "source": [
    "#### Set Interested Date Indices"
   ]
  },
  {
   "cell_type": "code",
   "execution_count": 4,
   "metadata": {},
   "outputs": [],
   "source": [
    "date_indices = pd.date_range(today - dt.timedelta(35), today + dt.timedelta(0), freq='W-MON')"
   ]
  },
  {
   "cell_type": "markdown",
   "metadata": {},
   "source": [
    "### Establish interim data path, open some data files"
   ]
  },
  {
   "cell_type": "code",
   "execution_count": 7,
   "metadata": {},
   "outputs": [
    {
     "data": {
      "text/html": [
       "<div>\n",
       "<style scoped>\n",
       "    .dataframe tbody tr th:only-of-type {\n",
       "        vertical-align: middle;\n",
       "    }\n",
       "\n",
       "    .dataframe tbody tr th {\n",
       "        vertical-align: top;\n",
       "    }\n",
       "\n",
       "    .dataframe thead th {\n",
       "        text-align: right;\n",
       "    }\n",
       "</style>\n",
       "<table border=\"1\" class=\"dataframe\">\n",
       "  <thead>\n",
       "    <tr style=\"text-align: right;\">\n",
       "      <th></th>\n",
       "      <th>date_created</th>\n",
       "      <th>refresh_time</th>\n",
       "      <th>userId</th>\n",
       "      <th>unrated_threshold</th>\n",
       "      <th>risky_threshold</th>\n",
       "      <th>supportive_threshold</th>\n",
       "    </tr>\n",
       "  </thead>\n",
       "  <tbody>\n",
       "    <tr>\n",
       "      <th>vinoct24</th>\n",
       "      <td>2018-10-24</td>\n",
       "      <td>2018-11-02</td>\n",
       "      <td>5bd0a014dc3f590016b44f5a</td>\n",
       "      <td>0.0</td>\n",
       "      <td>1.0</td>\n",
       "      <td>3.0</td>\n",
       "    </tr>\n",
       "    <tr>\n",
       "      <th>emily2</th>\n",
       "      <td>2018-10-04</td>\n",
       "      <td>2018-11-02</td>\n",
       "      <td>5bb6117dfb7a9a001057d1fd</td>\n",
       "      <td>0.0</td>\n",
       "      <td>1.0</td>\n",
       "      <td>3.0</td>\n",
       "    </tr>\n",
       "    <tr>\n",
       "      <th>vinoct18</th>\n",
       "      <td>2018-10-18</td>\n",
       "      <td>2018-11-02</td>\n",
       "      <td>5bc8d771efee4500100d13c0</td>\n",
       "      <td>0.0</td>\n",
       "      <td>1.0</td>\n",
       "      <td>3.0</td>\n",
       "    </tr>\n",
       "    <tr>\n",
       "      <th>zombeck</th>\n",
       "      <td>2018-10-03</td>\n",
       "      <td>2018-11-02</td>\n",
       "      <td>5bb4aa17febc7c0010d8f234</td>\n",
       "      <td>0.0</td>\n",
       "      <td>1.0</td>\n",
       "      <td>3.0</td>\n",
       "    </tr>\n",
       "    <tr>\n",
       "      <th>vinoct31</th>\n",
       "      <td>2018-10-31</td>\n",
       "      <td>NaN</td>\n",
       "      <td>5bd9b006bf92300016081351</td>\n",
       "      <td>0.0</td>\n",
       "      <td>1.0</td>\n",
       "      <td>3.0</td>\n",
       "    </tr>\n",
       "    <tr>\n",
       "      <th>liamkl</th>\n",
       "      <td>2018-09-19</td>\n",
       "      <td>2018-11-02</td>\n",
       "      <td>5ba244e1a56d2d001a1a9281</td>\n",
       "      <td>0.0</td>\n",
       "      <td>1.0</td>\n",
       "      <td>3.0</td>\n",
       "    </tr>\n",
       "  </tbody>\n",
       "</table>\n",
       "</div>"
      ],
      "text/plain": [
       "         date_created refresh_time                    userId  \\\n",
       "vinoct24   2018-10-24   2018-11-02  5bd0a014dc3f590016b44f5a   \n",
       "emily2     2018-10-04   2018-11-02  5bb6117dfb7a9a001057d1fd   \n",
       "vinoct18   2018-10-18   2018-11-02  5bc8d771efee4500100d13c0   \n",
       "zombeck    2018-10-03   2018-11-02  5bb4aa17febc7c0010d8f234   \n",
       "vinoct31   2018-10-31          NaN  5bd9b006bf92300016081351   \n",
       "liamkl     2018-09-19   2018-11-02  5ba244e1a56d2d001a1a9281   \n",
       "\n",
       "          unrated_threshold  risky_threshold  supportive_threshold  \n",
       "vinoct24                0.0              1.0                   3.0  \n",
       "emily2                  0.0              1.0                   3.0  \n",
       "vinoct18                0.0              1.0                   3.0  \n",
       "zombeck                 0.0              1.0                   3.0  \n",
       "vinoct31                0.0              1.0                   3.0  \n",
       "liamkl                  0.0              1.0                   3.0  "
      ]
     },
     "execution_count": 7,
     "metadata": {},
     "output_type": "execute_result"
    }
   ],
   "source": [
    "interim_data_path = os.path.join(PROJ_ROOT,\n",
    "\t\t\t\t\t\t\t\t\"data\",\n",
    "\t\t\t\t\t\t\t\t\"interim\")\n",
    "users_df = pd.read_pickle(os.path.join(interim_data_path, 'users_df.pkl'))\n",
    "\n",
    "raw_data_path = os.path.join(PROJ_ROOT,\n",
    "                             \"data\",\n",
    "                             \"raw\")\n",
    "raw_users_df = pd.read_pickle(os.path.join(raw_data_path, 'users_df.pkl'))\n",
    "\n",
    "# raw_users_df #.head(20)\n",
    "users_df.head(20)\n"
   ]
  },
  {
   "cell_type": "code",
   "execution_count": null,
   "metadata": {},
   "outputs": [],
   "source": []
  }
 ],
 "metadata": {
  "kernelspec": {
   "display_name": "Python 3",
   "language": "python",
   "name": "python3"
  },
  "language_info": {
   "codemirror_mode": {
    "name": "ipython",
    "version": 3
   },
   "file_extension": ".py",
   "mimetype": "text/x-python",
   "name": "python",
   "nbconvert_exporter": "python",
   "pygments_lexer": "ipython3",
   "version": "3.5.1"
  }
 },
 "nbformat": 4,
 "nbformat_minor": 2
}
