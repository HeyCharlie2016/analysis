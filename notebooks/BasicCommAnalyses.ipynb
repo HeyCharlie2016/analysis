{
 "cells": [
  {
   "cell_type": "code",
   "execution_count": 1,
   "metadata": {},
   "outputs": [],
   "source": [
    "import os\n",
    "import datetime as dt\n",
    "import pandas as pd\n",
    "import csv"
   ]
  },
  {
   "cell_type": "markdown",
   "metadata": {},
   "source": [
    "### Importing Project Libraries"
   ]
  },
  {
   "cell_type": "code",
   "execution_count": 2,
   "metadata": {},
   "outputs": [],
   "source": [
    "# add the 'src' directory as one where we can import modules\n",
    "import sys\n",
    "import pathlib # __file__ isn't recognized in Jupyter, so we need this to get the root path\n",
    "path = pathlib.Path.cwd()\n",
    "PROJ_ROOT = path.parent \n",
    "src_dir = str(PROJ_ROOT / 'src')\n",
    "PROJ_ROOT = str(PROJ_ROOT)\n",
    "sys.path.append(src_dir)\n",
    "from data import make_dataset"
   ]
  },
  {
   "cell_type": "markdown",
   "metadata": {},
   "source": [
    "### Confirm that the core data is up to date"
   ]
  },
  {
   "cell_type": "code",
   "execution_count": 3,
   "metadata": {},
   "outputs": [
    {
     "name": "stdout",
     "output_type": "stream",
     "text": [
      "Updating raw data for:\n",
      "['pinky618']\n",
      "Updated raw data for users:\n",
      "['pinky618']\n",
      "Updated raw data for:\n",
      "['pinky618']\n",
      "Interim users_df not found, generating new\n",
      "Interim users_df datafile exists\n",
      "Dataset current for:\n",
      "['pinky618']\n"
     ]
    },
    {
     "name": "stderr",
     "output_type": "stream",
     "text": [
      "C:\\Users\\Vinny\\Documents\\HeyCharlie Analysis Repo\\analysis\\src\\data\\location_df_analyses.py:74: FutureWarning: 'timestamp' is both an index level and a column label.\n",
      "Defaulting to column, but this will raise an ambiguity error in a future version\n",
      "  activity = user_loc_activity.sort_values('timestamp', ascending=True)\n"
     ]
    }
   ],
   "source": [
    "manual_usernames = ['emily', '+vinny', 'jake', 'hayyogirl', 'Rabbit', 'username']\n",
    "manual_usernames = ['inreverie', 'jake', 'username', 'rabbit',\n",
    "       'hayyogirl', '+vinny', 'joeybars7', 'joeybars', 'rusty', 'upstate518',\n",
    "       'fenderman123', 'philoiz', 'ceecee', 'anonysauce', 'keirmaley',\n",
    "       'nepthys', 'plush.mary', 'jmeow', 'shanila', 'google', 'nimaghafari']\n",
    "manual_usernames = ['pinky618']\n",
    "today = dt.date.today()\n",
    "usernames = make_dataset.refresh_user_data(manual_usernames, PROJ_ROOT, today)\n",
    "# Re-pulls raw data and refreshes basic interim data files: users_df.pkl \n",
    "# and a bunch for each user: filename + username + '.pkl'\n",
    "#   contacts_df_, day_comm_log_df_, week_comm_log_df_\n",
    "#   locations_df_, loc_log_df_, day_loc_log_df_, week_loc_log_df_"
   ]
  },
  {
   "cell_type": "markdown",
   "metadata": {},
   "source": [
    "#### Set Interested Date Indices"
   ]
  },
  {
   "cell_type": "code",
   "execution_count": 4,
   "metadata": {},
   "outputs": [
    {
     "name": "stdout",
     "output_type": "stream",
     "text": [
      "DatetimeIndex(['2019-02-18', '2019-02-25', '2019-03-04', '2019-03-11',\n",
      "               '2019-03-18', '2019-03-25', '2019-04-01'],\n",
      "              dtype='datetime64[ns]', freq='W-MON')\n"
     ]
    }
   ],
   "source": [
    "date_indices = pd.date_range(today - dt.timedelta(50), today + dt.timedelta(0), freq='W-MON')\n",
    "print(date_indices)"
   ]
  },
  {
   "cell_type": "markdown",
   "metadata": {},
   "source": [
    "### Establish interim data path, open some data files"
   ]
  },
  {
   "cell_type": "code",
   "execution_count": 5,
   "metadata": {
    "scrolled": true
   },
   "outputs": [
    {
     "name": "stdout",
     "output_type": "stream",
     "text": [
      "Interim users_df not found, generating new\n"
     ]
    }
   ],
   "source": [
    "from data import user_df_setup\n",
    "\n",
    "interim_data_file_path = os.path.join(PROJ_ROOT,\n",
    "                                 \"data\",\n",
    "                                 \"interim\",\n",
    "                                 \"full_users_df.pkl\")\n",
    "raw_data_file_path = os.path.join(PROJ_ROOT,\n",
    "                                 \"data\",\n",
    "                                 \"raw\",\n",
    "                                 \"users_df.pkl\")\n",
    "users_df = user_df_setup.user_df_setup(raw_data_file_path, interim_data_file_path)\n",
    "# users_df = pd.read_pickle(interim_data_file_path)\n",
    "raw_users_df = pd.read_pickle(raw_data_file_path)\n",
    "\n",
    "# raw_users_df\n",
    "# raw_users_df[['username', 'timeCreated']].sort_values('timeCreated', ascending = False).head(20)\n",
    "# all_users_df.sort_values('date_created', ascending = False).head(20)\n",
    "# all_users_df.head(20)"
   ]
  },
  {
   "cell_type": "markdown",
   "metadata": {},
   "source": [
    "#### Pulling communication, location data into user dictionaries"
   ]
  },
  {
   "cell_type": "code",
   "execution_count": 6,
   "metadata": {},
   "outputs": [],
   "source": [
    "interim_data_path = os.path.join(PROJ_ROOT,\n",
    "                                 \"data\",\n",
    "                                 \"interim\")\n",
    "raw_data_file_path = os.path.join(PROJ_ROOT,\n",
    "                                 \"data\",\n",
    "                                 \"raw\")\n",
    "weekly_comm_dict = {}\n",
    "contacts_dict = {}\n",
    "\n",
    "weekly_loc_log_dict = {}\n",
    "locations_dict = {}\n",
    "\n",
    "for username in usernames:\n",
    "    interim_comm_data_file_path = os.path.join(interim_data_path, 'week_comm_log_df_' + username + '.pkl')\n",
    "    weekly_comm_df = pd.read_pickle(interim_comm_data_file_path)\n",
    "    weekly_comm_dict[username] = weekly_comm_df\n",
    "    \n",
    "    interim_contact_data_file_path = os.path.join(interim_data_path, 'contacts_df_' + username + '.pkl')\n",
    "    contacts_df = pd.read_pickle(interim_contact_data_file_path)\n",
    "    contacts_dict[username] = contacts_df\n",
    "    \n",
    "    interim_loc_data_file_path = os.path.join(interim_data_path, 'week_loc_log_df_' + username + '.pkl')\n",
    "    weekly_loc_log_df = pd.read_pickle(interim_loc_data_file_path)\n",
    "    weekly_loc_log_dict[username] = weekly_loc_log_df\n",
    "    \n",
    "    locations_data_file_path = os.path.join(interim_data_path, 'locations_df_' + username + '.pkl')\n",
    "    locations_df = pd.read_pickle(locations_data_file_path)\n",
    "    locations_dict[username] = locations_df"
   ]
  },
  {
   "cell_type": "code",
   "execution_count": 7,
   "metadata": {},
   "outputs": [
    {
     "data": {
      "text/html": [
       "<div>\n",
       "<style scoped>\n",
       "    .dataframe tbody tr th:only-of-type {\n",
       "        vertical-align: middle;\n",
       "    }\n",
       "\n",
       "    .dataframe tbody tr th {\n",
       "        vertical-align: top;\n",
       "    }\n",
       "\n",
       "    .dataframe thead th {\n",
       "        text-align: right;\n",
       "    }\n",
       "</style>\n",
       "<table border=\"1\" class=\"dataframe\">\n",
       "  <thead>\n",
       "    <tr style=\"text-align: right;\">\n",
       "      <th></th>\n",
       "      <th>sms_sent_risky</th>\n",
       "      <th>sms_sent_neutral</th>\n",
       "      <th>sms_sent_supportive</th>\n",
       "      <th>sms_sent_unrated</th>\n",
       "      <th>sms_received_risky</th>\n",
       "      <th>sms_received_neutral</th>\n",
       "      <th>sms_received_supportive</th>\n",
       "      <th>sms_received_unrated</th>\n",
       "      <th>phone_inbound_risky</th>\n",
       "      <th>phone_inbound_neutral</th>\n",
       "      <th>...</th>\n",
       "      <th>risky_comm_days</th>\n",
       "      <th>total_comm_days</th>\n",
       "      <th>supportive_comm_days</th>\n",
       "      <th>unrated_comm_days</th>\n",
       "      <th>risky_percent</th>\n",
       "      <th>neutral_percent</th>\n",
       "      <th>supportive_percent</th>\n",
       "      <th>unrated_percent</th>\n",
       "      <th>change_in_risky_comm</th>\n",
       "      <th>change_in_risky_comm_days</th>\n",
       "    </tr>\n",
       "  </thead>\n",
       "  <tbody>\n",
       "    <tr>\n",
       "      <th>2019-03-18</th>\n",
       "      <td>0.0</td>\n",
       "      <td>0.0</td>\n",
       "      <td>0.0</td>\n",
       "      <td>6.0</td>\n",
       "      <td>0.0</td>\n",
       "      <td>0.0</td>\n",
       "      <td>0.0</td>\n",
       "      <td>21.0</td>\n",
       "      <td>0.0</td>\n",
       "      <td>0.0</td>\n",
       "      <td>...</td>\n",
       "      <td>0.0</td>\n",
       "      <td>4.0</td>\n",
       "      <td>0.0</td>\n",
       "      <td>4.0</td>\n",
       "      <td>0.000000</td>\n",
       "      <td>0.0</td>\n",
       "      <td>0.0</td>\n",
       "      <td>1.000000</td>\n",
       "      <td>NaN</td>\n",
       "      <td>NaN</td>\n",
       "    </tr>\n",
       "    <tr>\n",
       "      <th>2019-03-25</th>\n",
       "      <td>6.0</td>\n",
       "      <td>0.0</td>\n",
       "      <td>0.0</td>\n",
       "      <td>14.0</td>\n",
       "      <td>1.0</td>\n",
       "      <td>0.0</td>\n",
       "      <td>0.0</td>\n",
       "      <td>26.0</td>\n",
       "      <td>0.0</td>\n",
       "      <td>0.0</td>\n",
       "      <td>...</td>\n",
       "      <td>2.0</td>\n",
       "      <td>6.0</td>\n",
       "      <td>0.0</td>\n",
       "      <td>6.0</td>\n",
       "      <td>0.156863</td>\n",
       "      <td>0.0</td>\n",
       "      <td>0.0</td>\n",
       "      <td>0.843137</td>\n",
       "      <td>inf</td>\n",
       "      <td>2.0</td>\n",
       "    </tr>\n",
       "    <tr>\n",
       "      <th>2019-04-01</th>\n",
       "      <td>0.0</td>\n",
       "      <td>0.0</td>\n",
       "      <td>0.0</td>\n",
       "      <td>4.0</td>\n",
       "      <td>0.0</td>\n",
       "      <td>0.0</td>\n",
       "      <td>0.0</td>\n",
       "      <td>10.0</td>\n",
       "      <td>0.0</td>\n",
       "      <td>0.0</td>\n",
       "      <td>...</td>\n",
       "      <td>0.0</td>\n",
       "      <td>3.0</td>\n",
       "      <td>0.0</td>\n",
       "      <td>3.0</td>\n",
       "      <td>0.000000</td>\n",
       "      <td>0.0</td>\n",
       "      <td>0.0</td>\n",
       "      <td>1.000000</td>\n",
       "      <td>-1.000000</td>\n",
       "      <td>-2.0</td>\n",
       "    </tr>\n",
       "    <tr>\n",
       "      <th>2019-04-08</th>\n",
       "      <td>0.0</td>\n",
       "      <td>0.0</td>\n",
       "      <td>0.0</td>\n",
       "      <td>0.0</td>\n",
       "      <td>0.0</td>\n",
       "      <td>0.0</td>\n",
       "      <td>0.0</td>\n",
       "      <td>0.0</td>\n",
       "      <td>0.0</td>\n",
       "      <td>0.0</td>\n",
       "      <td>...</td>\n",
       "      <td>0.0</td>\n",
       "      <td>0.0</td>\n",
       "      <td>0.0</td>\n",
       "      <td>0.0</td>\n",
       "      <td>NaN</td>\n",
       "      <td>NaN</td>\n",
       "      <td>NaN</td>\n",
       "      <td>NaN</td>\n",
       "      <td>NaN</td>\n",
       "      <td>0.0</td>\n",
       "    </tr>\n",
       "  </tbody>\n",
       "</table>\n",
       "<p>4 rows × 33 columns</p>\n",
       "</div>"
      ],
      "text/plain": [
       "            sms_sent_risky  sms_sent_neutral  sms_sent_supportive  \\\n",
       "2019-03-18             0.0               0.0                  0.0   \n",
       "2019-03-25             6.0               0.0                  0.0   \n",
       "2019-04-01             0.0               0.0                  0.0   \n",
       "2019-04-08             0.0               0.0                  0.0   \n",
       "\n",
       "            sms_sent_unrated  sms_received_risky  sms_received_neutral  \\\n",
       "2019-03-18               6.0                 0.0                   0.0   \n",
       "2019-03-25              14.0                 1.0                   0.0   \n",
       "2019-04-01               4.0                 0.0                   0.0   \n",
       "2019-04-08               0.0                 0.0                   0.0   \n",
       "\n",
       "            sms_received_supportive  sms_received_unrated  \\\n",
       "2019-03-18                      0.0                  21.0   \n",
       "2019-03-25                      0.0                  26.0   \n",
       "2019-04-01                      0.0                  10.0   \n",
       "2019-04-08                      0.0                   0.0   \n",
       "\n",
       "            phone_inbound_risky  phone_inbound_neutral  \\\n",
       "2019-03-18                  0.0                    0.0   \n",
       "2019-03-25                  0.0                    0.0   \n",
       "2019-04-01                  0.0                    0.0   \n",
       "2019-04-08                  0.0                    0.0   \n",
       "\n",
       "                      ...              risky_comm_days  total_comm_days  \\\n",
       "2019-03-18            ...                          0.0              4.0   \n",
       "2019-03-25            ...                          2.0              6.0   \n",
       "2019-04-01            ...                          0.0              3.0   \n",
       "2019-04-08            ...                          0.0              0.0   \n",
       "\n",
       "            supportive_comm_days  unrated_comm_days  risky_percent  \\\n",
       "2019-03-18                   0.0                4.0       0.000000   \n",
       "2019-03-25                   0.0                6.0       0.156863   \n",
       "2019-04-01                   0.0                3.0       0.000000   \n",
       "2019-04-08                   0.0                0.0            NaN   \n",
       "\n",
       "            neutral_percent  supportive_percent  unrated_percent  \\\n",
       "2019-03-18              0.0                 0.0         1.000000   \n",
       "2019-03-25              0.0                 0.0         0.843137   \n",
       "2019-04-01              0.0                 0.0         1.000000   \n",
       "2019-04-08              NaN                 NaN              NaN   \n",
       "\n",
       "            change_in_risky_comm  change_in_risky_comm_days  \n",
       "2019-03-18                   NaN                        NaN  \n",
       "2019-03-25                   inf                        2.0  \n",
       "2019-04-01             -1.000000                       -2.0  \n",
       "2019-04-08                   NaN                        0.0  \n",
       "\n",
       "[4 rows x 33 columns]"
      ]
     },
     "execution_count": 7,
     "metadata": {},
     "output_type": "execute_result"
    }
   ],
   "source": [
    "# weekly_loc_log_dict['pinky618']\n",
    "weekly_comm_dict['pinky618']"
   ]
  },
  {
   "cell_type": "markdown",
   "metadata": {},
   "source": [
    "#### Pulling notifictaion dict"
   ]
  },
  {
   "cell_type": "code",
   "execution_count": 8,
   "metadata": {
    "scrolled": true
   },
   "outputs": [],
   "source": [
    "# notification_dict = make_dataset.make_notification_data(users_df, usernames, PROJ_ROOT)"
   ]
  },
  {
   "cell_type": "markdown",
   "metadata": {},
   "source": [
    "## Plotting"
   ]
  },
  {
   "cell_type": "code",
   "execution_count": 9,
   "metadata": {},
   "outputs": [],
   "source": [
    "from visualization import generate_report_charts\n",
    "\n",
    "chart_path = os.path.join(PROJ_ROOT,\n",
    "                          \"notebooks\",\n",
    "                          \"figures\")"
   ]
  },
  {
   "cell_type": "code",
   "execution_count": 10,
   "metadata": {},
   "outputs": [
    {
     "name": "stdout",
     "output_type": "stream",
     "text": [
      "pinky618\n"
     ]
    },
    {
     "data": {
      "image/png": "[encoded data removed]",
      "text/plain": [
       "<Figure size 432x288 with 1 Axes>"
      ]
     },
     "metadata": {
      "needs_background": "light"
     },
     "output_type": "display_data"
    }
   ],
   "source": [
    "comm_days_line_chart_cols = ['total_comm_days', 'risky_comm_days', 'supportive_comm_days']\n",
    "\n",
    "for username in usernames:\n",
    "    print(username)\n",
    "    comm_days_line_chart_data = weekly_comm_dict[username][comm_days_line_chart_cols]\n",
    "    comm_days_line_chart_data = comm_days_line_chart_data[min(date_indices):max(date_indices)]\n",
    "    comm_days_line_chart_data = comm_days_line_chart_data[(comm_days_line_chart_data.index >= date_indices[0])]\n",
    "#     comm_days_line_chart_data = comm_days_line_chart_data[(comm_days_line_chart_data.index >= date_indices[0]) & (comm_days_line_chart_data.index <= date_indices[-1])]\n",
    "#     [comm_days_line_chart_data.index >= date_indices[0]]\n",
    "    generate_report_charts.comm_days_line_chart([username], date_indices, comm_days_line_chart_data, chart_path, show=True)"
   ]
  },
  {
   "cell_type": "code",
   "execution_count": 11,
   "metadata": {},
   "outputs": [],
   "source": [
    "# print(comm_days_line_chart_data[(comm_days_line_chart_data.index >= min(date_indices))])"
   ]
  },
  {
   "cell_type": "code",
   "execution_count": 12,
   "metadata": {},
   "outputs": [
    {
     "name": "stdout",
     "output_type": "stream",
     "text": [
      "pinky618\n"
     ]
    },
    {
     "data": {
      "image/png": "[encoded data removed]",
      "text/plain": [
       "<Figure size 432x288 with 1 Axes>"
      ]
     },
     "metadata": {
      "needs_background": "light"
     },
     "output_type": "display_data"
    }
   ],
   "source": [
    "comm_vol_bar_chart_cols = ['total_comm', 'risky_comm', 'neutral_comm', 'supportive_comm', 'unrated_comm']\n",
    "\n",
    "for username in usernames:\n",
    "    print(username)\n",
    "    comm_vol_bar_chart_data = weekly_comm_dict[username][comm_vol_bar_chart_cols]\n",
    "#     print(comm_vol_bar_chart_data[comm_vol_bar_chart_data.index >= date_indices[0]])\n",
    "    comm_vol_bar_chart_data = comm_vol_bar_chart_data[(comm_vol_bar_chart_data.index >= date_indices[0]) & (comm_vol_bar_chart_data.index <= date_indices[-1])]\n",
    "    generate_report_charts.comm_vol_bar_chart([username], date_indices, comm_vol_bar_chart_data, chart_path, show=True)\n",
    "\n",
    "    \n",
    "    "
   ]
  },
  {
   "cell_type": "code",
   "execution_count": 13,
   "metadata": {
    "scrolled": true
   },
   "outputs": [
    {
     "name": "stdout",
     "output_type": "stream",
     "text": [
      "pinky618\n"
     ]
    },
    {
     "data": {
      "image/png": "[encoded data removed]",
      "text/plain": [
       "<Figure size 432x288 with 1 Axes>"
      ]
     },
     "metadata": {
      "needs_background": "light"
     },
     "output_type": "display_data"
    }
   ],
   "source": [
    "loc_days_bar_chart_cols = ['days_w_risky_loc_visits']\n",
    "\n",
    "for username in usernames:\n",
    "    print(username)\n",
    "    loc_days_bar_chart_data = weekly_loc_log_dict[username][loc_days_bar_chart_cols]\n",
    "#     print(comm_vol_bar_chart_data[comm_vol_bar_chart_data.index >= date_indices[0]])\n",
    "    loc_days_bar_chart_data = loc_days_bar_chart_data[(loc_days_bar_chart_data.index >= date_indices[0]) & (loc_days_bar_chart_data.index <= date_indices[-1])]\n",
    "    generate_report_charts.loc_days_bar_chart([username], date_indices, loc_days_bar_chart_data, chart_path, show=True)\n",
    "# loc_days_bar_chart_cols = ['days_w_risky_loc_visits']"
   ]
  },
  {
   "cell_type": "code",
   "execution_count": 14,
   "metadata": {
    "scrolled": true
   },
   "outputs": [
    {
     "name": "stdout",
     "output_type": "stream",
     "text": [
      "pinky618\n"
     ]
    },
    {
     "data": {
      "image/png": "[encoded data removed]",
      "text/plain": [
       "<Figure size 432x288 with 1 Axes>"
      ]
     },
     "metadata": {},
     "output_type": "display_data"
    }
   ],
   "source": [
    "comm_pie_chart_cols = ['risky_percent', 'neutral_percent', 'supportive_percent', 'unrated_percent']\n",
    "for username in usernames:\n",
    "    print(username)\n",
    "    comm_pie_chart_data = weekly_comm_dict[username][comm_pie_chart_cols]\n",
    "#     print(comm_pie_chart_data)\n",
    "#     print(comm_pie_chart_data.index)\n",
    "#     print(date_indices)\n",
    "#     print(date_indices[-1].date() - dt.timedelta(7))\n",
    "#     print(comm_pie_chart_data.loc[date_indices[-2].date()])\n",
    "    if date_indices[-2] in comm_pie_chart_data.index:\n",
    "        generate_report_charts.comm_pie_chart([username], date_indices[-2], comm_pie_chart_data.loc[date_indices[-2]], chart_path, show=True)"
   ]
  },
  {
   "cell_type": "markdown",
   "metadata": {},
   "source": [
    "### Contact Rating Distribution"
   ]
  },
  {
   "cell_type": "code",
   "execution_count": 15,
   "metadata": {
    "scrolled": true
   },
   "outputs": [],
   "source": [
    "# users_df.head\n",
    "# contacts_dict['+vinny']"
   ]
  },
  {
   "cell_type": "code",
   "execution_count": 16,
   "metadata": {},
   "outputs": [
    {
     "ename": "TypeError",
     "evalue": "'AxesSubplot' object does not support indexing",
     "output_type": "error",
     "traceback": [
      "\u001b[1;31m---------------------------------------------------------------------------\u001b[0m",
      "\u001b[1;31mTypeError\u001b[0m                                 Traceback (most recent call last)",
      "\u001b[1;32m<ipython-input-16-de0dcaaa2922>\u001b[0m in \u001b[0;36m<module>\u001b[1;34m\u001b[0m\n\u001b[0;32m     17\u001b[0m     \u001b[0msupportive\u001b[0m \u001b[1;33m=\u001b[0m \u001b[0mcontacts_df\u001b[0m\u001b[1;33m[\u001b[0m\u001b[1;34m'score'\u001b[0m\u001b[1;33m]\u001b[0m\u001b[1;33m[\u001b[0m\u001b[1;33m(\u001b[0m\u001b[0mcontacts_df\u001b[0m\u001b[1;33m[\u001b[0m\u001b[1;34m'score'\u001b[0m\u001b[1;33m]\u001b[0m \u001b[1;33m>=\u001b[0m \u001b[0msupportive_threshold\u001b[0m\u001b[1;33m)\u001b[0m\u001b[1;33m]\u001b[0m\u001b[1;33m\u001b[0m\u001b[1;33m\u001b[0m\u001b[0m\n\u001b[0;32m     18\u001b[0m \u001b[1;33m\u001b[0m\u001b[0m\n\u001b[1;32m---> 19\u001b[1;33m     \u001b[0maxarr\u001b[0m\u001b[1;33m[\u001b[0m\u001b[0mcount\u001b[0m\u001b[1;33m]\u001b[0m\u001b[1;33m.\u001b[0m\u001b[0mbar\u001b[0m\u001b[1;33m(\u001b[0m\u001b[0msupportive\u001b[0m\u001b[1;33m.\u001b[0m\u001b[0mindex\u001b[0m\u001b[1;33m,\u001b[0m \u001b[0msupportive\u001b[0m\u001b[1;33m,\u001b[0m \u001b[1;36m0.7\u001b[0m\u001b[1;33m,\u001b[0m \u001b[0mcolor\u001b[0m \u001b[1;33m=\u001b[0m \u001b[1;34m'#00cc00'\u001b[0m\u001b[1;33m)\u001b[0m\u001b[1;33m\u001b[0m\u001b[1;33m\u001b[0m\u001b[0m\n\u001b[0m\u001b[0;32m     20\u001b[0m     \u001b[0maxarr\u001b[0m\u001b[1;33m[\u001b[0m\u001b[0mcount\u001b[0m\u001b[1;33m]\u001b[0m\u001b[1;33m.\u001b[0m\u001b[0mbar\u001b[0m\u001b[1;33m(\u001b[0m\u001b[0mneutral\u001b[0m\u001b[1;33m.\u001b[0m\u001b[0mindex\u001b[0m\u001b[1;33m,\u001b[0m \u001b[0mneutral\u001b[0m\u001b[1;33m,\u001b[0m \u001b[1;36m0.7\u001b[0m\u001b[1;33m,\u001b[0m \u001b[0mcolor\u001b[0m \u001b[1;33m=\u001b[0m \u001b[1;34m'b'\u001b[0m\u001b[1;33m)\u001b[0m\u001b[1;33m\u001b[0m\u001b[1;33m\u001b[0m\u001b[0m\n\u001b[0;32m     21\u001b[0m     \u001b[0maxarr\u001b[0m\u001b[1;33m[\u001b[0m\u001b[0mcount\u001b[0m\u001b[1;33m]\u001b[0m\u001b[1;33m.\u001b[0m\u001b[0mbar\u001b[0m\u001b[1;33m(\u001b[0m\u001b[0mrisky\u001b[0m\u001b[1;33m.\u001b[0m\u001b[0mindex\u001b[0m\u001b[1;33m,\u001b[0m \u001b[0mrisky\u001b[0m\u001b[1;33m,\u001b[0m \u001b[1;36m0.7\u001b[0m\u001b[1;33m,\u001b[0m \u001b[0mcolor\u001b[0m \u001b[1;33m=\u001b[0m \u001b[1;34m'#ff6600'\u001b[0m\u001b[1;33m)\u001b[0m\u001b[1;33m\u001b[0m\u001b[1;33m\u001b[0m\u001b[0m\n",
      "\u001b[1;31mTypeError\u001b[0m: 'AxesSubplot' object does not support indexing"
     ]
    },
    {
     "data": {
      "image/png": "[encoded data removed]",
      "text/plain": [
       "<Figure size 720x1080 with 1 Axes>"
      ]
     },
     "metadata": {
      "needs_background": "light"
     },
     "output_type": "display_data"
    }
   ],
   "source": [
    "import matplotlib.pyplot as plt\n",
    "\n",
    "f, axarr = plt.subplots(len(usernames),figsize=(10,15), sharex = True, sharey = True)\n",
    "plt.tight_layout()\n",
    "\n",
    "for count, e in enumerate(usernames):  \n",
    "    unrated_threshold = users_df.loc[e, 'unrated_threshold']\n",
    "    risky_threshold = users_df.loc[e, 'risky_threshold']\n",
    "    supportive_threshold = users_df.loc[e, 'supportive_threshold']\n",
    "    \n",
    "    contacts_df = contacts_dict[e].sort_values('score', ascending = False)\n",
    "    unrated = contacts_df['score'][contacts_df['score'] < unrated_threshold]\n",
    "    risky = contacts_df['score'][(contacts_df['score'] >= unrated_threshold)\n",
    "                                                     & (contacts_df['score'] <= risky_threshold)]\n",
    "    neutral = contacts_df['score'][(contacts_df['score'] > risky_threshold)\n",
    "                                                     & (contacts_df['score'] < supportive_threshold)]\n",
    "    supportive = contacts_df['score'][(contacts_df['score'] >= supportive_threshold)]\n",
    "    \n",
    "    axarr[count].bar(supportive.index, supportive, 0.7, color = '#00cc00')\n",
    "    axarr[count].bar(neutral.index, neutral, 0.7, color = 'b')\n",
    "    axarr[count].bar(risky.index, risky, 0.7, color = '#ff6600')\n",
    "    axarr[count].bar(unrated.index, unrated, 0.7, color = '#C0C0C0')\n",
    "    axarr[count].set_title(e)"
   ]
  },
  {
   "cell_type": "code",
   "execution_count": null,
   "metadata": {},
   "outputs": [],
   "source": []
  },
  {
   "cell_type": "code",
   "execution_count": null,
   "metadata": {},
   "outputs": [],
   "source": []
  },
  {
   "cell_type": "code",
   "execution_count": null,
   "metadata": {},
   "outputs": [],
   "source": []
  },
  {
   "cell_type": "code",
   "execution_count": null,
   "metadata": {},
   "outputs": [],
   "source": []
  },
  {
   "cell_type": "code",
   "execution_count": null,
   "metadata": {},
   "outputs": [],
   "source": []
  }
 ],
 "metadata": {
  "kernelspec": {
   "display_name": "Python 3",
   "language": "python",
   "name": "python3"
  },
  "language_info": {
   "codemirror_mode": {
    "name": "ipython",
    "version": 3
   },
   "file_extension": ".py",
   "mimetype": "text/x-python",
   "name": "python",
   "nbconvert_exporter": "python",
   "pygments_lexer": "ipython3",
   "version": "3.7.2"
  }
 },
 "nbformat": 4,
 "nbformat_minor": 2
}
