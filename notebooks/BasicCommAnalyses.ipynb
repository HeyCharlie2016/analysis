{
 "cells": [
  {
   "cell_type": "code",
   "execution_count": 1,
   "metadata": {},
   "outputs": [],
   "source": [
    "import os\n",
    "import datetime as dt\n",
    "import pandas as pd\n",
    "import csv"
   ]
  },
  {
   "cell_type": "markdown",
   "metadata": {},
   "source": [
    "### Importing Project Libraries"
   ]
  },
  {
   "cell_type": "code",
   "execution_count": 2,
   "metadata": {},
   "outputs": [],
   "source": [
    "# add the 'src' directory as one where we can import modules\n",
    "import sys\n",
    "import pathlib # __file__ isn't recognized in Jupyter, so we need this to get the root path\n",
    "path = pathlib.Path.cwd()\n",
    "PROJ_ROOT = path.parent \n",
    "src_dir = str(PROJ_ROOT / 'src')\n",
    "PROJ_ROOT = str(PROJ_ROOT)\n",
    "sys.path.append(src_dir)\n",
    "from data import make_dataset"
   ]
  },
  {
   "cell_type": "markdown",
   "metadata": {},
   "source": [
    "### Confirm that the core data is up to date"
   ]
  },
  {
   "cell_type": "code",
   "execution_count": 3,
   "metadata": {},
   "outputs": [
    {
     "name": "stdout",
     "output_type": "stream",
     "text": [
      "Interim users_df datafile exists\n",
      "Data is up to date!\n"
     ]
    }
   ],
   "source": [
    "manual_usernames = ['emily', '+vinny', 'jake', 'hayyogirl', 'Rabbit', 'username']\n",
    "manual_usernames = ['inreverie', 'jake', 'username', 'rabbit',\n",
    "       'hayyogirl', '+vinny', 'joeybars7', 'joeybars', 'rusty', 'upstate518',\n",
    "       'fenderman123', 'philoiz', 'ceecee', 'anonysauce', 'keirmaley',\n",
    "       'nepthys', 'plush.mary', 'jmeow', 'shanila', 'google', 'nimaghafari']\n",
    "today = dt.date.today()\n",
    "usernames = make_dataset.refresh_user_data(manual_usernames, PROJ_ROOT, today)\n",
    "# Re-pulls raw data and refreshes basic interim data files: users_df.pkl \n",
    "# and a bunch for each user: filename + username + '.pkl'\n",
    "#   contacts_df_, day_comm_log_df_, week_comm_log_df_\n",
    "#   locations_df_, loc_log_df_, day_loc_log_df_, week_loc_log_df_"
   ]
  },
  {
   "cell_type": "markdown",
   "metadata": {},
   "source": [
    "#### Set Interested Date Indices"
   ]
  },
  {
   "cell_type": "code",
   "execution_count": 4,
   "metadata": {},
   "outputs": [
    {
     "name": "stdout",
     "output_type": "stream",
     "text": [
      "DatetimeIndex(['2018-12-31', '2019-01-07', '2019-01-14', '2019-01-21',\n",
      "               '2019-01-28'],\n",
      "              dtype='datetime64[ns]', freq='W-MON')\n"
     ]
    }
   ],
   "source": [
    "date_indices = pd.date_range(today - dt.timedelta(35), today + dt.timedelta(0), freq='W-MON')\n",
    "print(date_indices)"
   ]
  },
  {
   "cell_type": "markdown",
   "metadata": {},
   "source": [
    "### Establish interim data path, open some data files"
   ]
  },
  {
   "cell_type": "code",
   "execution_count": 5,
   "metadata": {
    "scrolled": true
   },
   "outputs": [],
   "source": [
    "from data import user_df_setup\n",
    "\n",
    "interim_data_file_path = os.path.join(PROJ_ROOT,\n",
    "                                 \"data\",\n",
    "                                 \"interim\",\n",
    "                                 \"full_users_df.pkl\")\n",
    "users_df = pd.read_pickle(interim_data_file_path)\n",
    "raw_data_file_path = os.path.join(PROJ_ROOT,\n",
    "                             \"data\",\n",
    "                             \"raw\",\n",
    "                             \"users_df.pkl\")\n",
    "raw_users_df = pd.read_pickle(raw_data_file_path)\n",
    "\n",
    "# raw_users_df\n",
    "# raw_users_df[['username', 'timeCreated']].sort_values('timeCreated', ascending = False).head(20)\n",
    "# all_users_df.sort_values('date_created', ascending = False).head(20)\n",
    "# all_users_df.head(20)"
   ]
  },
  {
   "cell_type": "markdown",
   "metadata": {},
   "source": [
    "#### Pulling communication, location data into user dictionaries"
   ]
  },
  {
   "cell_type": "code",
   "execution_count": 6,
   "metadata": {},
   "outputs": [],
   "source": [
    "interim_data_path = os.path.join(PROJ_ROOT,\n",
    "                                 \"data\",\n",
    "                                 \"interim\")\n",
    "raw_data_file_path = os.path.join(PROJ_ROOT,\n",
    "                                 \"data\",\n",
    "                                 \"raw\")\n",
    "weekly_comm_dict = {}\n",
    "contacts_dict = {}\n",
    "\n",
    "weekly_loc_log_dict = {}\n",
    "locations_dict = {}\n",
    "\n",
    "for username in usernames:\n",
    "    interim_comm_data_file_path = os.path.join(interim_data_path, 'week_comm_log_df_' + username + '.pkl')\n",
    "    weekly_comm_df = pd.read_pickle(interim_comm_data_file_path)\n",
    "    weekly_comm_dict[username] = weekly_comm_df\n",
    "    \n",
    "    interim_contact_data_file_path = os.path.join(interim_data_path, 'contacts_df_' + username + '.pkl')\n",
    "    contacts_df = pd.read_pickle(interim_contact_data_file_path)\n",
    "    contacts_dict[username] = contacts_df\n",
    "    \n",
    "    interim_loc_data_file_path = os.path.join(interim_data_path, 'week_loc_log_df_' + username + '.pkl')\n",
    "    weekly_loc_log_df = pd.read_pickle(interim_loc_data_file_path)\n",
    "    weekly_loc_log_dict[username] = weekly_loc_log_df\n",
    "    \n",
    "    locations_data_file_path = os.path.join(interim_data_path, 'locations_df_' + username + '.pkl')\n",
    "    locations_df = pd.read_pickle(locations_data_file_path)\n",
    "    locations_dict[username] = locations_df"
   ]
  },
  {
   "cell_type": "code",
   "execution_count": 7,
   "metadata": {},
   "outputs": [],
   "source": [
    "# weekly_loc_log_dict['+vinny'].columns"
   ]
  },
  {
   "cell_type": "markdown",
   "metadata": {},
   "source": [
    "#### Pulling notifictaion dict"
   ]
  },
  {
   "cell_type": "code",
   "execution_count": 8,
   "metadata": {
    "scrolled": true
   },
   "outputs": [
    {
     "name": "stdout",
     "output_type": "stream",
     "text": [
      "Username not found: []\n",
      "5be9a92a1dc2970010696d6a\n",
      "5be9b0490eb5fd0010495dc2\n",
      "      timestamp                   type                    userId\n",
      "0  1.542059e+12       sent-sms-warning  5be9b0490eb5fd0010495dc2\n",
      "1  1.542071e+12    daily-task-question  5be9b0490eb5fd0010495dc2\n",
      "2  1.542225e+12  auto-response-warning  5be9b0490eb5fd0010495dc2\n",
      "3  1.542226e+12       sent-sms-warning  5be9b0490eb5fd0010495dc2\n",
      "4  1.542244e+12    daily-task-question  5be9b0490eb5fd0010495dc2\n",
      "5be9ee601dc2970010696d8c\n",
      "        timestamp                 type                    userId\n",
      "203  1.542062e+12  daily-task-question  5be9ee601dc2970010696d8c\n",
      "204  1.542233e+12  daily-task-question  5be9ee601dc2970010696d8c\n",
      "205  1.542406e+12  daily-task-question  5be9ee601dc2970010696d8c\n",
      "206  1.542578e+12  daily-task-question  5be9ee601dc2970010696d8c\n",
      "207  1.542665e+12  first-week-question  5be9ee601dc2970010696d8c\n",
      "5beaf0cf1dc2970010696da2\n",
      "        timestamp                 type                    userId\n",
      "377  1.542147e+12  daily-task-question  5beaf0cf1dc2970010696da2\n",
      "378  1.542319e+12  daily-task-question  5beaf0cf1dc2970010696da2\n",
      "379  1.542492e+12  daily-task-question  5beaf0cf1dc2970010696da2\n",
      "5beb26500eb5fd0010495e08\n",
      "        timestamp                 type                    userId\n",
      "380  1.542146e+12  daily-task-question  5beb26500eb5fd0010495e08\n",
      "381  1.542319e+12  daily-task-question  5beb26500eb5fd0010495e08\n",
      "382  1.542492e+12  daily-task-question  5beb26500eb5fd0010495e08\n",
      "383  1.542665e+12  daily-task-question  5beb26500eb5fd0010495e08\n",
      "384  1.542751e+12  first-week-question  5beb26500eb5fd0010495e08\n",
      "5bec3a6b1dc2970010696def\n",
      "        timestamp                 type                    userId\n",
      "440  1.542209e+12     geofence-warning  5bec3a6b1dc2970010696def\n",
      "441  1.542209e+12     sent-sms-warning  5bec3a6b1dc2970010696def\n",
      "442  1.542210e+12     sent-sms-warning  5bec3a6b1dc2970010696def\n",
      "443  1.542211e+12     geofence-warning  5bec3a6b1dc2970010696def\n",
      "444  1.542234e+12  daily-task-question  5bec3a6b1dc2970010696def\n",
      "5bec3a721dc2970010696df2\n",
      "        timestamp              type                    userId\n",
      "665  1.542209e+12  geofence-warning  5bec3a721dc2970010696df2\n",
      "666  1.542210e+12  geofence-warning  5bec3a721dc2970010696df2\n",
      "5bec3e721dc2970010696e0f\n",
      "5bf0f777f434f50010c25494\n",
      "        timestamp                 type                    userId\n",
      "667  1.542519e+12  daily-task-question  5bf0f777f434f50010c25494\n",
      "5bf2de44f434f50010c254a3\n",
      "        timestamp                 type                    userId\n",
      "668  1.542665e+12  daily-task-question  5bf2de44f434f50010c254a3\n",
      "669  1.542838e+12  daily-task-question  5bf2de44f434f50010c254a3\n",
      "670  1.543011e+12  daily-task-question  5bf2de44f434f50010c254a3\n",
      "671  1.543184e+12  daily-task-question  5bf2de44f434f50010c254a3\n",
      "672  1.543356e+12  daily-task-question  5bf2de44f434f50010c254a3\n",
      "5bf3028cf434f50010c254ad\n",
      "5bf30d1a0760320010e58ec0\n",
      "5bf314f90760320010e58ec3\n",
      "5bf32b3cf434f50010c254b7\n",
      "        timestamp                 type                    userId\n",
      "686  1.542667e+12  daily-task-question  5bf32b3cf434f50010c254b7\n",
      "687  1.542840e+12  daily-task-question  5bf32b3cf434f50010c254b7\n",
      "688  1.543010e+12  daily-task-question  5bf32b3cf434f50010c254b7\n",
      "689  1.543183e+12  daily-task-question  5bf32b3cf434f50010c254b7\n",
      "690  1.543324e+12       friend-scoring  5bf32b3cf434f50010c254b7\n",
      "5bf34b00f434f50010c254c4\n",
      "        timestamp                 type                    userId\n",
      "861  1.542676e+12  daily-task-question  5bf34b00f434f50010c254c4\n",
      "5bf371bbf434f50010c254d0\n",
      "        timestamp                          type                    userId\n",
      "862  1.542682e+12           daily-task-question  5bf371bbf434f50010c254d0\n",
      "863  1.542825e+12              sent-sms-warning  5bf371bbf434f50010c254d0\n",
      "864  1.542840e+12           daily-task-question  5bf371bbf434f50010c254d0\n",
      "865  1.542950e+12         outgoing-call-warning  5bf371bbf434f50010c254d0\n",
      "866  1.542950e+12  outgoing-call-warning-second  5bf371bbf434f50010c254d0\n",
      "5bf3a4fe0760320010e58ee3\n",
      "        timestamp                   type                    userId\n",
      "877  1.542752e+12    daily-task-question  5bf3a4fe0760320010e58ee3\n",
      "878  1.542774e+12  outgoing-call-warning  5bf3a4fe0760320010e58ee3\n",
      "879  1.542783e+12       sent-sms-warning  5bf3a4fe0760320010e58ee3\n",
      "880  1.542867e+12  auto-response-warning  5bf3a4fe0760320010e58ee3\n",
      "881  1.542867e+12  incoming-call-warning  5bf3a4fe0760320010e58ee3\n",
      "5bf3d03b0760320010e58efe\n",
      "        timestamp                   type                    userId\n",
      "903  1.542762e+12    daily-task-question  5bf3d03b0760320010e58efe\n",
      "904  1.542928e+12       sent-sms-warning  5bf3d03b0760320010e58efe\n",
      "905  1.542935e+12    daily-task-question  5bf3d03b0760320010e58efe\n",
      "906  1.543108e+12    daily-task-question  5bf3d03b0760320010e58efe\n",
      "907  1.543116e+12  auto-response-warning  5bf3d03b0760320010e58efe\n",
      "5bf46c4ff434f50010c25502\n",
      "        timestamp                     type                    userId\n",
      "918  1.542751e+12      daily-task-question  5bf46c4ff434f50010c25502\n",
      "919  1.542843e+12    auto-response-warning  5bf46c4ff434f50010c25502\n",
      "920  1.542843e+12         sent-sms-warning  5bf46c4ff434f50010c25502\n",
      "921  1.542907e+12         sent-sms-warning  5bf46c4ff434f50010c25502\n",
      "922  1.542907e+12  sent-sms-warning-second  5bf46c4ff434f50010c25502\n",
      "5bf47741f434f50010c25507\n",
      "5bf47f7df434f50010c2550e\n"
     ]
    }
   ],
   "source": [
    "notification_dict = make_dataset.make_notification_data(users_df, usernames, PROJ_ROOT)"
   ]
  },
  {
   "cell_type": "markdown",
   "metadata": {},
   "source": [
    "## Plotting"
   ]
  },
  {
   "cell_type": "code",
   "execution_count": 9,
   "metadata": {},
   "outputs": [],
   "source": [
    "from visualization import generate_report_charts\n",
    "\n",
    "chart_path = os.path.join(PROJ_ROOT,\n",
    "                          \"notebooks\",\n",
    "                          \"figures\")"
   ]
  },
  {
   "cell_type": "code",
   "execution_count": 10,
   "metadata": {},
   "outputs": [
    {
     "name": "stdout",
     "output_type": "stream",
     "text": [
      "inreverie\n"
     ]
    },
    {
     "ename": "FileNotFoundError",
     "evalue": "[Errno 2] No such file or directory: 'C:\\\\Users\\\\Vinny\\\\Documents\\\\HeyCharlie Analysis Repo\\\\analysis\\\\notebooks\\\\figures\\\\days_w_comm_chart-inreverie.png'",
     "output_type": "error",
     "traceback": [
      "\u001b[1;31m---------------------------------------------------------------------------\u001b[0m",
      "\u001b[1;31mFileNotFoundError\u001b[0m                         Traceback (most recent call last)",
      "\u001b[1;32m<ipython-input-10-e67a8c65fc1e>\u001b[0m in \u001b[0;36m<module>\u001b[1;34m\u001b[0m\n\u001b[0;32m      8\u001b[0m \u001b[1;31m#     comm_days_line_chart_data = comm_days_line_chart_data[(comm_days_line_chart_data.index >= date_indices[0]) & (comm_days_line_chart_data.index <= date_indices[-1])]\u001b[0m\u001b[1;33m\u001b[0m\u001b[1;33m\u001b[0m\u001b[1;33m\u001b[0m\u001b[0m\n\u001b[0;32m      9\u001b[0m \u001b[1;31m#     [comm_days_line_chart_data.index >= date_indices[0]]\u001b[0m\u001b[1;33m\u001b[0m\u001b[1;33m\u001b[0m\u001b[1;33m\u001b[0m\u001b[0m\n\u001b[1;32m---> 10\u001b[1;33m     \u001b[0mgenerate_report_charts\u001b[0m\u001b[1;33m.\u001b[0m\u001b[0mcomm_days_line_chart\u001b[0m\u001b[1;33m(\u001b[0m\u001b[1;33m[\u001b[0m\u001b[0musername\u001b[0m\u001b[1;33m]\u001b[0m\u001b[1;33m,\u001b[0m \u001b[0mdate_indices\u001b[0m\u001b[1;33m,\u001b[0m \u001b[0mcomm_days_line_chart_data\u001b[0m\u001b[1;33m,\u001b[0m \u001b[0mchart_path\u001b[0m\u001b[1;33m,\u001b[0m \u001b[0mshow\u001b[0m\u001b[1;33m=\u001b[0m\u001b[1;32mTrue\u001b[0m\u001b[1;33m)\u001b[0m\u001b[1;33m\u001b[0m\u001b[1;33m\u001b[0m\u001b[0m\n\u001b[0m",
      "\u001b[1;32m~\\Documents\\HeyCharlie Analysis Repo\\analysis\\src\\visualization\\generate_report_charts.py\u001b[0m in \u001b[0;36mcomm_days_line_chart\u001b[1;34m(usernames, date_indices, comm_days_line_chart_data, report_chart_path, **kwargs)\u001b[0m\n\u001b[0;32m     55\u001b[0m                 \u001b[0mfilename\u001b[0m \u001b[1;33m=\u001b[0m \u001b[1;34m'days_w_comm_chart'\u001b[0m \u001b[1;33m+\u001b[0m \u001b[1;34m'-'\u001b[0m \u001b[1;33m+\u001b[0m \u001b[0musername\u001b[0m \u001b[1;33m+\u001b[0m \u001b[1;34m'.png'\u001b[0m\u001b[1;33m\u001b[0m\u001b[1;33m\u001b[0m\u001b[0m\n\u001b[0;32m     56\u001b[0m                 \u001b[0mfilepath\u001b[0m \u001b[1;33m=\u001b[0m \u001b[0mos\u001b[0m\u001b[1;33m.\u001b[0m\u001b[0mpath\u001b[0m\u001b[1;33m.\u001b[0m\u001b[0mjoin\u001b[0m\u001b[1;33m(\u001b[0m\u001b[0mreport_chart_path\u001b[0m\u001b[1;33m,\u001b[0m \u001b[0mfilename\u001b[0m\u001b[1;33m)\u001b[0m\u001b[1;33m\u001b[0m\u001b[1;33m\u001b[0m\u001b[0m\n\u001b[1;32m---> 57\u001b[1;33m                 \u001b[0mfig\u001b[0m\u001b[1;33m.\u001b[0m\u001b[0msavefig\u001b[0m\u001b[1;33m(\u001b[0m\u001b[0mfilepath\u001b[0m\u001b[1;33m,\u001b[0m \u001b[0mbbox_inches\u001b[0m\u001b[1;33m=\u001b[0m\u001b[1;34m\"tight\"\u001b[0m\u001b[1;33m)\u001b[0m\u001b[1;33m\u001b[0m\u001b[1;33m\u001b[0m\u001b[0m\n\u001b[0m\u001b[0;32m     58\u001b[0m                 \u001b[1;31m# plt.clf()\u001b[0m\u001b[1;33m\u001b[0m\u001b[1;33m\u001b[0m\u001b[1;33m\u001b[0m\u001b[0m\n\u001b[0;32m     59\u001b[0m                 \u001b[1;32mif\u001b[0m \u001b[0mshow\u001b[0m\u001b[1;33m:\u001b[0m\u001b[1;33m\u001b[0m\u001b[1;33m\u001b[0m\u001b[0m\n",
      "\u001b[1;32mc:\\users\\vinny\\appdata\\local\\programs\\python\\python37\\lib\\site-packages\\matplotlib\\figure.py\u001b[0m in \u001b[0;36msavefig\u001b[1;34m(self, fname, frameon, transparent, **kwargs)\u001b[0m\n\u001b[0;32m   2092\u001b[0m             \u001b[0mself\u001b[0m\u001b[1;33m.\u001b[0m\u001b[0mset_frameon\u001b[0m\u001b[1;33m(\u001b[0m\u001b[0mframeon\u001b[0m\u001b[1;33m)\u001b[0m\u001b[1;33m\u001b[0m\u001b[1;33m\u001b[0m\u001b[0m\n\u001b[0;32m   2093\u001b[0m \u001b[1;33m\u001b[0m\u001b[0m\n\u001b[1;32m-> 2094\u001b[1;33m         \u001b[0mself\u001b[0m\u001b[1;33m.\u001b[0m\u001b[0mcanvas\u001b[0m\u001b[1;33m.\u001b[0m\u001b[0mprint_figure\u001b[0m\u001b[1;33m(\u001b[0m\u001b[0mfname\u001b[0m\u001b[1;33m,\u001b[0m \u001b[1;33m**\u001b[0m\u001b[0mkwargs\u001b[0m\u001b[1;33m)\u001b[0m\u001b[1;33m\u001b[0m\u001b[1;33m\u001b[0m\u001b[0m\n\u001b[0m\u001b[0;32m   2095\u001b[0m \u001b[1;33m\u001b[0m\u001b[0m\n\u001b[0;32m   2096\u001b[0m         \u001b[1;32mif\u001b[0m \u001b[0mframeon\u001b[0m\u001b[1;33m:\u001b[0m\u001b[1;33m\u001b[0m\u001b[1;33m\u001b[0m\u001b[0m\n",
      "\u001b[1;32mc:\\users\\vinny\\appdata\\local\\programs\\python\\python37\\lib\\site-packages\\matplotlib\\backend_bases.py\u001b[0m in \u001b[0;36mprint_figure\u001b[1;34m(self, filename, dpi, facecolor, edgecolor, orientation, format, bbox_inches, **kwargs)\u001b[0m\n\u001b[0;32m   2073\u001b[0m                     \u001b[0morientation\u001b[0m\u001b[1;33m=\u001b[0m\u001b[0morientation\u001b[0m\u001b[1;33m,\u001b[0m\u001b[1;33m\u001b[0m\u001b[1;33m\u001b[0m\u001b[0m\n\u001b[0;32m   2074\u001b[0m                     \u001b[0mbbox_inches_restore\u001b[0m\u001b[1;33m=\u001b[0m\u001b[0m_bbox_inches_restore\u001b[0m\u001b[1;33m,\u001b[0m\u001b[1;33m\u001b[0m\u001b[1;33m\u001b[0m\u001b[0m\n\u001b[1;32m-> 2075\u001b[1;33m                     **kwargs)\n\u001b[0m\u001b[0;32m   2076\u001b[0m             \u001b[1;32mfinally\u001b[0m\u001b[1;33m:\u001b[0m\u001b[1;33m\u001b[0m\u001b[1;33m\u001b[0m\u001b[0m\n\u001b[0;32m   2077\u001b[0m                 \u001b[1;32mif\u001b[0m \u001b[0mbbox_inches\u001b[0m \u001b[1;32mand\u001b[0m \u001b[0mrestore_bbox\u001b[0m\u001b[1;33m:\u001b[0m\u001b[1;33m\u001b[0m\u001b[1;33m\u001b[0m\u001b[0m\n",
      "\u001b[1;32mc:\\users\\vinny\\appdata\\local\\programs\\python\\python37\\lib\\site-packages\\matplotlib\\backends\\backend_agg.py\u001b[0m in \u001b[0;36mprint_png\u001b[1;34m(self, filename_or_obj, *args, **kwargs)\u001b[0m\n\u001b[0;32m    519\u001b[0m \u001b[1;33m\u001b[0m\u001b[0m\n\u001b[0;32m    520\u001b[0m         \u001b[1;32mwith\u001b[0m \u001b[0mcbook\u001b[0m\u001b[1;33m.\u001b[0m\u001b[0m_setattr_cm\u001b[0m\u001b[1;33m(\u001b[0m\u001b[0mrenderer\u001b[0m\u001b[1;33m,\u001b[0m \u001b[0mdpi\u001b[0m\u001b[1;33m=\u001b[0m\u001b[0mself\u001b[0m\u001b[1;33m.\u001b[0m\u001b[0mfigure\u001b[0m\u001b[1;33m.\u001b[0m\u001b[0mdpi\u001b[0m\u001b[1;33m)\u001b[0m\u001b[1;33m,\u001b[0m\u001b[0;31m \u001b[0m\u001b[0;31m\\\u001b[0m\u001b[1;33m\u001b[0m\u001b[1;33m\u001b[0m\u001b[0m\n\u001b[1;32m--> 521\u001b[1;33m                 \u001b[0mcbook\u001b[0m\u001b[1;33m.\u001b[0m\u001b[0mopen_file_cm\u001b[0m\u001b[1;33m(\u001b[0m\u001b[0mfilename_or_obj\u001b[0m\u001b[1;33m,\u001b[0m \u001b[1;34m\"wb\"\u001b[0m\u001b[1;33m)\u001b[0m \u001b[1;32mas\u001b[0m \u001b[0mfh\u001b[0m\u001b[1;33m:\u001b[0m\u001b[1;33m\u001b[0m\u001b[1;33m\u001b[0m\u001b[0m\n\u001b[0m\u001b[0;32m    522\u001b[0m             _png.write_png(renderer._renderer, fh,\n\u001b[0;32m    523\u001b[0m                             self.figure.dpi, metadata=metadata)\n",
      "\u001b[1;32mc:\\users\\vinny\\appdata\\local\\programs\\python\\python37\\lib\\contextlib.py\u001b[0m in \u001b[0;36m__enter__\u001b[1;34m(self)\u001b[0m\n\u001b[0;32m    110\u001b[0m         \u001b[1;32mdel\u001b[0m \u001b[0mself\u001b[0m\u001b[1;33m.\u001b[0m\u001b[0margs\u001b[0m\u001b[1;33m,\u001b[0m \u001b[0mself\u001b[0m\u001b[1;33m.\u001b[0m\u001b[0mkwds\u001b[0m\u001b[1;33m,\u001b[0m \u001b[0mself\u001b[0m\u001b[1;33m.\u001b[0m\u001b[0mfunc\u001b[0m\u001b[1;33m\u001b[0m\u001b[1;33m\u001b[0m\u001b[0m\n\u001b[0;32m    111\u001b[0m         \u001b[1;32mtry\u001b[0m\u001b[1;33m:\u001b[0m\u001b[1;33m\u001b[0m\u001b[1;33m\u001b[0m\u001b[0m\n\u001b[1;32m--> 112\u001b[1;33m             \u001b[1;32mreturn\u001b[0m \u001b[0mnext\u001b[0m\u001b[1;33m(\u001b[0m\u001b[0mself\u001b[0m\u001b[1;33m.\u001b[0m\u001b[0mgen\u001b[0m\u001b[1;33m)\u001b[0m\u001b[1;33m\u001b[0m\u001b[1;33m\u001b[0m\u001b[0m\n\u001b[0m\u001b[0;32m    113\u001b[0m         \u001b[1;32mexcept\u001b[0m \u001b[0mStopIteration\u001b[0m\u001b[1;33m:\u001b[0m\u001b[1;33m\u001b[0m\u001b[1;33m\u001b[0m\u001b[0m\n\u001b[0;32m    114\u001b[0m             \u001b[1;32mraise\u001b[0m \u001b[0mRuntimeError\u001b[0m\u001b[1;33m(\u001b[0m\u001b[1;34m\"generator didn't yield\"\u001b[0m\u001b[1;33m)\u001b[0m \u001b[1;32mfrom\u001b[0m \u001b[1;32mNone\u001b[0m\u001b[1;33m\u001b[0m\u001b[1;33m\u001b[0m\u001b[0m\n",
      "\u001b[1;32mc:\\users\\vinny\\appdata\\local\\programs\\python\\python37\\lib\\site-packages\\matplotlib\\cbook\\__init__.py\u001b[0m in \u001b[0;36mopen_file_cm\u001b[1;34m(path_or_file, mode, encoding)\u001b[0m\n\u001b[0;32m    405\u001b[0m \u001b[1;32mdef\u001b[0m \u001b[0mopen_file_cm\u001b[0m\u001b[1;33m(\u001b[0m\u001b[0mpath_or_file\u001b[0m\u001b[1;33m,\u001b[0m \u001b[0mmode\u001b[0m\u001b[1;33m=\u001b[0m\u001b[1;34m\"r\"\u001b[0m\u001b[1;33m,\u001b[0m \u001b[0mencoding\u001b[0m\u001b[1;33m=\u001b[0m\u001b[1;32mNone\u001b[0m\u001b[1;33m)\u001b[0m\u001b[1;33m:\u001b[0m\u001b[1;33m\u001b[0m\u001b[1;33m\u001b[0m\u001b[0m\n\u001b[0;32m    406\u001b[0m     \u001b[1;34mr\"\"\"Pass through file objects and context-manage `.PathLike`\\s.\"\"\"\u001b[0m\u001b[1;33m\u001b[0m\u001b[1;33m\u001b[0m\u001b[0m\n\u001b[1;32m--> 407\u001b[1;33m     \u001b[0mfh\u001b[0m\u001b[1;33m,\u001b[0m \u001b[0mopened\u001b[0m \u001b[1;33m=\u001b[0m \u001b[0mto_filehandle\u001b[0m\u001b[1;33m(\u001b[0m\u001b[0mpath_or_file\u001b[0m\u001b[1;33m,\u001b[0m \u001b[0mmode\u001b[0m\u001b[1;33m,\u001b[0m \u001b[1;32mTrue\u001b[0m\u001b[1;33m,\u001b[0m \u001b[0mencoding\u001b[0m\u001b[1;33m)\u001b[0m\u001b[1;33m\u001b[0m\u001b[1;33m\u001b[0m\u001b[0m\n\u001b[0m\u001b[0;32m    408\u001b[0m     \u001b[1;32mif\u001b[0m \u001b[0mopened\u001b[0m\u001b[1;33m:\u001b[0m\u001b[1;33m\u001b[0m\u001b[1;33m\u001b[0m\u001b[0m\n\u001b[0;32m    409\u001b[0m         \u001b[1;32mwith\u001b[0m \u001b[0mfh\u001b[0m\u001b[1;33m:\u001b[0m\u001b[1;33m\u001b[0m\u001b[1;33m\u001b[0m\u001b[0m\n",
      "\u001b[1;32mc:\\users\\vinny\\appdata\\local\\programs\\python\\python37\\lib\\site-packages\\matplotlib\\cbook\\__init__.py\u001b[0m in \u001b[0;36mto_filehandle\u001b[1;34m(fname, flag, return_opened, encoding)\u001b[0m\n\u001b[0;32m    390\u001b[0m             \u001b[0mfh\u001b[0m \u001b[1;33m=\u001b[0m \u001b[0mbz2\u001b[0m\u001b[1;33m.\u001b[0m\u001b[0mBZ2File\u001b[0m\u001b[1;33m(\u001b[0m\u001b[0mfname\u001b[0m\u001b[1;33m,\u001b[0m \u001b[0mflag\u001b[0m\u001b[1;33m)\u001b[0m\u001b[1;33m\u001b[0m\u001b[1;33m\u001b[0m\u001b[0m\n\u001b[0;32m    391\u001b[0m         \u001b[1;32melse\u001b[0m\u001b[1;33m:\u001b[0m\u001b[1;33m\u001b[0m\u001b[1;33m\u001b[0m\u001b[0m\n\u001b[1;32m--> 392\u001b[1;33m             \u001b[0mfh\u001b[0m \u001b[1;33m=\u001b[0m \u001b[0mopen\u001b[0m\u001b[1;33m(\u001b[0m\u001b[0mfname\u001b[0m\u001b[1;33m,\u001b[0m \u001b[0mflag\u001b[0m\u001b[1;33m,\u001b[0m \u001b[0mencoding\u001b[0m\u001b[1;33m=\u001b[0m\u001b[0mencoding\u001b[0m\u001b[1;33m)\u001b[0m\u001b[1;33m\u001b[0m\u001b[1;33m\u001b[0m\u001b[0m\n\u001b[0m\u001b[0;32m    393\u001b[0m         \u001b[0mopened\u001b[0m \u001b[1;33m=\u001b[0m \u001b[1;32mTrue\u001b[0m\u001b[1;33m\u001b[0m\u001b[1;33m\u001b[0m\u001b[0m\n\u001b[0;32m    394\u001b[0m     \u001b[1;32melif\u001b[0m \u001b[0mhasattr\u001b[0m\u001b[1;33m(\u001b[0m\u001b[0mfname\u001b[0m\u001b[1;33m,\u001b[0m \u001b[1;34m'seek'\u001b[0m\u001b[1;33m)\u001b[0m\u001b[1;33m:\u001b[0m\u001b[1;33m\u001b[0m\u001b[1;33m\u001b[0m\u001b[0m\n",
      "\u001b[1;31mFileNotFoundError\u001b[0m: [Errno 2] No such file or directory: 'C:\\\\Users\\\\Vinny\\\\Documents\\\\HeyCharlie Analysis Repo\\\\analysis\\\\notebooks\\\\figures\\\\days_w_comm_chart-inreverie.png'"
     ]
    },
    {
     "data": {
      "image/png": "[encoded data removed]",
      "text/plain": [
       "<Figure size 432x288 with 1 Axes>"
      ]
     },
     "metadata": {
      "needs_background": "light"
     },
     "output_type": "display_data"
    }
   ],
   "source": [
    "comm_days_line_chart_cols = ['total_comm_days', 'risky_comm_days', 'supportive_comm_days']\n",
    "\n",
    "for username in usernames:\n",
    "    print(username)\n",
    "    comm_days_line_chart_data = weekly_comm_dict[username][comm_days_line_chart_cols]\n",
    "    comm_days_line_chart_data = comm_days_line_chart_data[min(date_indices):max(date_indices)]\n",
    "    comm_days_line_chart_data = comm_days_line_chart_data[(comm_days_line_chart_data.index >= date_indices[0])]\n",
    "#     comm_days_line_chart_data = comm_days_line_chart_data[(comm_days_line_chart_data.index >= date_indices[0]) & (comm_days_line_chart_data.index <= date_indices[-1])]\n",
    "#     [comm_days_line_chart_data.index >= date_indices[0]]\n",
    "    generate_report_charts.comm_days_line_chart([username], date_indices, comm_days_line_chart_data, chart_path, show=True)"
   ]
  },
  {
   "cell_type": "code",
   "execution_count": null,
   "metadata": {},
   "outputs": [],
   "source": [
    "print(comm_days_line_chart_data[(comm_days_line_chart_data.index >= min(date_indices))])"
   ]
  },
  {
   "cell_type": "code",
   "execution_count": null,
   "metadata": {},
   "outputs": [],
   "source": [
    "comm_vol_bar_chart_cols = ['total_comm', 'risky_comm', 'neutral_comm', 'supportive_comm', 'unrated_comm']\n",
    "\n",
    "for username in usernames:\n",
    "    print(username)\n",
    "    comm_vol_bar_chart_data = weekly_comm_dict[username][comm_vol_bar_chart_cols]\n",
    "#     print(comm_vol_bar_chart_data[comm_vol_bar_chart_data.index >= date_indices[0]])\n",
    "    comm_vol_bar_chart_data = comm_vol_bar_chart_data[(comm_vol_bar_chart_data.index >= date_indices[0]) & (comm_vol_bar_chart_data.index <= date_indices[-1])]\n",
    "    generate_report_charts.comm_vol_bar_chart([username], date_indices, comm_vol_bar_chart_data, chart_path, show=True)\n",
    "\n",
    "    \n",
    "    "
   ]
  },
  {
   "cell_type": "code",
   "execution_count": null,
   "metadata": {
    "scrolled": true
   },
   "outputs": [],
   "source": [
    "loc_days_bar_chart_cols = ['days_w_risky_loc_visits']\n",
    "\n",
    "for username in usernames:\n",
    "    print(username)\n",
    "    loc_days_bar_chart_data = weekly_loc_log_dict[username][loc_days_bar_chart_cols]\n",
    "#     print(comm_vol_bar_chart_data[comm_vol_bar_chart_data.index >= date_indices[0]])\n",
    "    loc_days_bar_chart_data = loc_days_bar_chart_data[(loc_days_bar_chart_data.index >= date_indices[0]) & (loc_days_bar_chart_data.index <= date_indices[-1])]\n",
    "    generate_report_charts.loc_days_bar_chart([username], date_indices, loc_days_bar_chart_data, chart_path, show=True)\n",
    "# loc_days_bar_chart_cols = ['days_w_risky_loc_visits']"
   ]
  },
  {
   "cell_type": "code",
   "execution_count": null,
   "metadata": {
    "scrolled": true
   },
   "outputs": [],
   "source": [
    "comm_pie_chart_cols = ['risky_percent', 'neutral_percent', 'supportive_percent', 'unrated_percent']\n",
    "for username in usernames:\n",
    "    print(username)\n",
    "    comm_pie_chart_data = weekly_comm_dict[username][comm_pie_chart_cols]\n",
    "#     print(comm_pie_chart_data)\n",
    "#     print(comm_pie_chart_data.index)\n",
    "#     print(date_indices)\n",
    "#     print(date_indices[-1].date() - dt.timedelta(7))\n",
    "#     print(comm_pie_chart_data.loc[date_indices[-2].date()])\n",
    "    if date_indices[-2] in comm_pie_chart_data.index:\n",
    "        generate_report_charts.comm_pie_chart([username], date_indices[-2], comm_pie_chart_data.loc[date_indices[-2]], chart_path, show=True)"
   ]
  },
  {
   "cell_type": "markdown",
   "metadata": {},
   "source": [
    "### Contact Rating Distribution"
   ]
  },
  {
   "cell_type": "code",
   "execution_count": null,
   "metadata": {
    "scrolled": true
   },
   "outputs": [],
   "source": [
    "# users_df.head\n",
    "# contacts_dict['+vinny']"
   ]
  },
  {
   "cell_type": "code",
   "execution_count": null,
   "metadata": {},
   "outputs": [],
   "source": [
    "import matplotlib.pyplot as plt\n",
    "\n",
    "f, axarr = plt.subplots(len(usernames),figsize=(10,15), sharex = True, sharey = True)\n",
    "plt.tight_layout()\n",
    "\n",
    "for count, e in enumerate(usernames):  \n",
    "    unrated_threshold = users_df.loc[e, 'unrated_threshold']\n",
    "    risky_threshold = users_df.loc[e, 'risky_threshold']\n",
    "    supportive_threshold = users_df.loc[e, 'supportive_threshold']\n",
    "    \n",
    "    contacts_df = contacts_dict[e].sort_values('score', ascending = False)\n",
    "    unrated = contacts_df['score'][contacts_df['score'] < unrated_threshold]\n",
    "    risky = contacts_df['score'][(contacts_df['score'] >= unrated_threshold)\n",
    "                                                     & (contacts_df['score'] <= risky_threshold)]\n",
    "    neutral = contacts_df['score'][(contacts_df['score'] > risky_threshold)\n",
    "                                                     & (contacts_df['score'] < supportive_threshold)]\n",
    "    supportive = contacts_df['score'][(contacts_df['score'] >= supportive_threshold)]\n",
    "    \n",
    "    axarr[count].bar(supportive.index, supportive, 0.7, color = '#00cc00')\n",
    "    axarr[count].bar(neutral.index, neutral, 0.7, color = 'b')\n",
    "    axarr[count].bar(risky.index, risky, 0.7, color = '#ff6600')\n",
    "    axarr[count].bar(unrated.index, unrated, 0.7, color = '#C0C0C0')\n",
    "    axarr[count].set_title(e)"
   ]
  }
 ],
 "metadata": {
  "kernelspec": {
   "display_name": "Python 3",
   "language": "python",
   "name": "python3"
  },
  "language_info": {
   "codemirror_mode": {
    "name": "ipython",
    "version": 3
   },
   "file_extension": ".py",
   "mimetype": "text/x-python",
   "name": "python",
   "nbconvert_exporter": "python",
   "pygments_lexer": "ipython3",
   "version": "3.7.2"
  }
 },
 "nbformat": 4,
 "nbformat_minor": 2
}
