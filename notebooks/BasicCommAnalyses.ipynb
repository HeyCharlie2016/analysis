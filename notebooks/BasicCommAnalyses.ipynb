{
 "cells": [
  {
   "cell_type": "code",
   "execution_count": 1,
   "metadata": {},
   "outputs": [],
   "source": [
    "import os\n",
    "import datetime as dt\n",
    "import pandas as pd\n",
    "import csv\n",
    "import numpy as np"
   ]
  },
  {
   "cell_type": "markdown",
   "metadata": {},
   "source": [
    "### Importing Project Libraries"
   ]
  },
  {
   "cell_type": "code",
   "execution_count": 2,
   "metadata": {},
   "outputs": [],
   "source": [
    "# add the 'src' directory as one where we can import modules\n",
    "import sys\n",
    "import pathlib # __file__ isn't recognized in Jupyter, so we need this to get the root path\n",
    "path = pathlib.Path.cwd()\n",
    "PROJ_ROOT = path.parent \n",
    "src_dir = str(PROJ_ROOT / 'src')\n",
    "PROJ_ROOT = str(PROJ_ROOT)\n",
    "sys.path.append(src_dir)\n",
    "from data import make_dataset"
   ]
  },
  {
   "cell_type": "markdown",
   "metadata": {},
   "source": [
    "### Confirm that the core data is up to date"
   ]
  },
  {
   "cell_type": "code",
   "execution_count": 3,
   "metadata": {},
   "outputs": [
    {
     "name": "stdout",
     "output_type": "stream",
     "text": [
      "Interim users_df datafile exists\n",
      "Data is up to date!\n"
     ]
    }
   ],
   "source": [
    "manual_usernames = ['emily', '+vinny', 'jake', 'hayyogirl', 'Rabbit', 'username']\n",
    "manual_usernames = ['inreverie', 'jake', 'username', 'rabbit',\n",
    "       'hayyogirl', '+vinny', 'joeybars7', 'joeybars', 'rusty', 'upstate518',\n",
    "       'fenderman123', 'philoiz', 'ceecee', 'anonysauce', 'keirmaley',\n",
    "       'nepthys', 'plush.mary', 'jmeow', 'shanila', 'google', 'nimaghafari']\n",
    "# manual_usernames = ['pinky618']\n",
    "manual_usernames = ['shad christie']\n",
    "today = dt.date.today()\n",
    "usernames = make_dataset.refresh_user_data(manual_usernames, PROJ_ROOT, today)\n",
    "# Re-pulls raw data and refreshes basic interim data files: users_df.pkl \n",
    "# and a bunch for each user: filename + username + '.pkl'\n",
    "#   contacts_df_, day_comm_log_df_, week_comm_log_df_\n",
    "#   locations_df_, loc_log_df_, day_loc_log_df_, week_loc_log_df_"
   ]
  },
  {
   "cell_type": "markdown",
   "metadata": {},
   "source": [
    "#### Set Interested Date Indices"
   ]
  },
  {
   "cell_type": "code",
   "execution_count": 4,
   "metadata": {},
   "outputs": [
    {
     "name": "stdout",
     "output_type": "stream",
     "text": [
      "DatetimeIndex(['2019-02-18', '2019-02-25', '2019-03-04', '2019-03-11',\n",
      "               '2019-03-18', '2019-03-25', '2019-04-01'],\n",
      "              dtype='datetime64[ns]', freq='W-MON')\n"
     ]
    }
   ],
   "source": [
    "date_indices = pd.date_range(today - dt.timedelta(50), today + dt.timedelta(0), freq='W-MON')\n",
    "print(date_indices)"
   ]
  },
  {
   "cell_type": "markdown",
   "metadata": {},
   "source": [
    "### Establish interim data path, open some data files"
   ]
  },
  {
   "cell_type": "code",
   "execution_count": 5,
   "metadata": {
    "scrolled": true
   },
   "outputs": [],
   "source": [
    "from data import user_df_setup\n",
    "\n",
    "interim_data_file_path = os.path.join(PROJ_ROOT,\n",
    "                                 \"data\",\n",
    "                                 \"interim\",\n",
    "                                 \"full_users_df.pkl\")\n",
    "raw_data_file_path = os.path.join(PROJ_ROOT,\n",
    "                                 \"data\",\n",
    "                                 \"raw\",\n",
    "                                 \"users_df.pkl\")\n",
    "users_df = user_df_setup.user_df_setup(raw_data_file_path, interim_data_file_path)\n",
    "# users_df = pd.read_pickle(interim_data_file_path)\n",
    "raw_users_df = pd.read_pickle(raw_data_file_path)\n",
    "\n",
    "# raw_users_df\n",
    "# raw_users_df[['username', 'timeCreated']].sort_values('timeCreated', ascending = False).head(20)\n",
    "# all_users_df.sort_values('date_created', ascending = False).head(20)\n",
    "# all_users_df.head(20)"
   ]
  },
  {
   "cell_type": "markdown",
   "metadata": {},
   "source": [
    "#### Pulling communication, location data into user dictionaries"
   ]
  },
  {
   "cell_type": "code",
   "execution_count": 6,
   "metadata": {},
   "outputs": [],
   "source": [
    "interim_data_path = os.path.join(PROJ_ROOT,\n",
    "                                 \"data\",\n",
    "                                 \"interim\")\n",
    "raw_data_file_path = os.path.join(PROJ_ROOT,\n",
    "                                 \"data\",\n",
    "                                 \"raw\")\n",
    "weekly_comm_dict = {}\n",
    "contacts_dict = {}\n",
    "\n",
    "weekly_loc_log_dict = {}\n",
    "locations_dict = {}\n",
    "\n",
    "for username in usernames:\n",
    "    weekly_comm_df, weekly_loc_log_df, locations_df = np.nan, np.nan, np.nan\n",
    "    interim_comm_data_file_path = os.path.join(interim_data_path, 'week_comm_log_df_' + username + '.pkl')\n",
    "    if os.path.isfile(interim_comm_data_file_path):\n",
    "        weekly_comm_df = pd.read_pickle(interim_comm_data_file_path)\n",
    "        weekly_comm_dict[username] = weekly_comm_df\n",
    "    \n",
    "    interim_contact_data_file_path = os.path.join(interim_data_path, 'contacts_df_' + username + '.pkl')\n",
    "    contacts_df = pd.read_pickle(interim_contact_data_file_path)\n",
    "    contacts_dict[username] = contacts_df\n",
    "    \n",
    "    interim_loc_data_file_path = os.path.join(interim_data_path, 'week_loc_log_df_' + username + '.pkl')\n",
    "    if os.path.isfile(interim_loc_data_file_path):\n",
    "        weekly_loc_log_df = pd.read_pickle(interim_loc_data_file_path)\n",
    "        weekly_loc_log_dict[username] = weekly_loc_log_df\n",
    "    \n",
    "    locations_data_file_path = os.path.join(interim_data_path, 'locations_df_' + username + '.pkl')\n",
    "    locations_df = pd.read_pickle(locations_data_file_path)\n",
    "    locations_dict[username] = locations_df"
   ]
  },
  {
   "cell_type": "code",
   "execution_count": 9,
   "metadata": {},
   "outputs": [],
   "source": [
    "# weekly_loc_log_dict['pinky618']\n",
    "# weekly_comm_dict[usernames[0]]"
   ]
  },
  {
   "cell_type": "markdown",
   "metadata": {},
   "source": [
    "#### Pulling notifictaion dict"
   ]
  },
  {
   "cell_type": "code",
   "execution_count": 10,
   "metadata": {
    "scrolled": true
   },
   "outputs": [],
   "source": [
    "# notification_dict = make_dataset.make_notification_data(users_df, usernames, PROJ_ROOT)"
   ]
  },
  {
   "cell_type": "markdown",
   "metadata": {},
   "source": [
    "## Plotting"
   ]
  },
  {
   "cell_type": "code",
   "execution_count": 11,
   "metadata": {},
   "outputs": [],
   "source": [
    "from visualization import generate_report_charts\n",
    "\n",
    "chart_path = os.path.join(PROJ_ROOT,\n",
    "                          \"notebooks\",\n",
    "                          \"figures\")"
   ]
  },
  {
   "cell_type": "code",
   "execution_count": 12,
   "metadata": {},
   "outputs": [
    {
     "name": "stdout",
     "output_type": "stream",
     "text": [
      "shad christie\n"
     ]
    },
    {
     "ename": "KeyError",
     "evalue": "'shad christie'",
     "output_type": "error",
     "traceback": [
      "\u001b[1;31m---------------------------------------------------------------------------\u001b[0m",
      "\u001b[1;31mKeyError\u001b[0m                                  Traceback (most recent call last)",
      "\u001b[1;32m<ipython-input-12-e67a8c65fc1e>\u001b[0m in \u001b[0;36m<module>\u001b[1;34m\u001b[0m\n\u001b[0;32m      3\u001b[0m \u001b[1;32mfor\u001b[0m \u001b[0musername\u001b[0m \u001b[1;32min\u001b[0m \u001b[0musernames\u001b[0m\u001b[1;33m:\u001b[0m\u001b[1;33m\u001b[0m\u001b[1;33m\u001b[0m\u001b[0m\n\u001b[0;32m      4\u001b[0m     \u001b[0mprint\u001b[0m\u001b[1;33m(\u001b[0m\u001b[0musername\u001b[0m\u001b[1;33m)\u001b[0m\u001b[1;33m\u001b[0m\u001b[1;33m\u001b[0m\u001b[0m\n\u001b[1;32m----> 5\u001b[1;33m     \u001b[0mcomm_days_line_chart_data\u001b[0m \u001b[1;33m=\u001b[0m \u001b[0mweekly_comm_dict\u001b[0m\u001b[1;33m[\u001b[0m\u001b[0musername\u001b[0m\u001b[1;33m]\u001b[0m\u001b[1;33m[\u001b[0m\u001b[0mcomm_days_line_chart_cols\u001b[0m\u001b[1;33m]\u001b[0m\u001b[1;33m\u001b[0m\u001b[1;33m\u001b[0m\u001b[0m\n\u001b[0m\u001b[0;32m      6\u001b[0m     \u001b[0mcomm_days_line_chart_data\u001b[0m \u001b[1;33m=\u001b[0m \u001b[0mcomm_days_line_chart_data\u001b[0m\u001b[1;33m[\u001b[0m\u001b[0mmin\u001b[0m\u001b[1;33m(\u001b[0m\u001b[0mdate_indices\u001b[0m\u001b[1;33m)\u001b[0m\u001b[1;33m:\u001b[0m\u001b[0mmax\u001b[0m\u001b[1;33m(\u001b[0m\u001b[0mdate_indices\u001b[0m\u001b[1;33m)\u001b[0m\u001b[1;33m]\u001b[0m\u001b[1;33m\u001b[0m\u001b[1;33m\u001b[0m\u001b[0m\n\u001b[0;32m      7\u001b[0m     \u001b[0mcomm_days_line_chart_data\u001b[0m \u001b[1;33m=\u001b[0m \u001b[0mcomm_days_line_chart_data\u001b[0m\u001b[1;33m[\u001b[0m\u001b[1;33m(\u001b[0m\u001b[0mcomm_days_line_chart_data\u001b[0m\u001b[1;33m.\u001b[0m\u001b[0mindex\u001b[0m \u001b[1;33m>=\u001b[0m \u001b[0mdate_indices\u001b[0m\u001b[1;33m[\u001b[0m\u001b[1;36m0\u001b[0m\u001b[1;33m]\u001b[0m\u001b[1;33m)\u001b[0m\u001b[1;33m]\u001b[0m\u001b[1;33m\u001b[0m\u001b[1;33m\u001b[0m\u001b[0m\n",
      "\u001b[1;31mKeyError\u001b[0m: 'shad christie'"
     ]
    }
   ],
   "source": [
    "comm_days_line_chart_cols = ['total_comm_days', 'risky_comm_days', 'supportive_comm_days']\n",
    "\n",
    "for username in usernames:\n",
    "    print(username)\n",
    "    comm_days_line_chart_data = weekly_comm_dict[username][comm_days_line_chart_cols]\n",
    "    comm_days_line_chart_data = comm_days_line_chart_data[min(date_indices):max(date_indices)]\n",
    "    comm_days_line_chart_data = comm_days_line_chart_data[(comm_days_line_chart_data.index >= date_indices[0])]\n",
    "#     comm_days_line_chart_data = comm_days_line_chart_data[(comm_days_line_chart_data.index >= date_indices[0]) & (comm_days_line_chart_data.index <= date_indices[-1])]\n",
    "#     [comm_days_line_chart_data.index >= date_indices[0]]\n",
    "    generate_report_charts.comm_days_line_chart([username], date_indices, comm_days_line_chart_data, chart_path, show=True)"
   ]
  },
  {
   "cell_type": "code",
   "execution_count": null,
   "metadata": {},
   "outputs": [],
   "source": [
    "# print(comm_days_line_chart_data[(comm_days_line_chart_data.index >= min(date_indices))])"
   ]
  },
  {
   "cell_type": "code",
   "execution_count": null,
   "metadata": {},
   "outputs": [],
   "source": [
    "comm_vol_bar_chart_cols = ['total_comm', 'risky_comm', 'neutral_comm', 'supportive_comm', 'unrated_comm']\n",
    "\n",
    "for username in usernames:\n",
    "    print(username)\n",
    "    comm_vol_bar_chart_data = weekly_comm_dict[username][comm_vol_bar_chart_cols]\n",
    "#     print(comm_vol_bar_chart_data[comm_vol_bar_chart_data.index >= date_indices[0]])\n",
    "    comm_vol_bar_chart_data = comm_vol_bar_chart_data[(comm_vol_bar_chart_data.index >= date_indices[0]) & (comm_vol_bar_chart_data.index <= date_indices[-1])]\n",
    "    generate_report_charts.comm_vol_bar_chart([username], date_indices, comm_vol_bar_chart_data, chart_path, show=True)\n",
    "\n",
    "    \n",
    "    "
   ]
  },
  {
   "cell_type": "code",
   "execution_count": 14,
   "metadata": {},
   "outputs": [
    {
     "data": {
      "text/plain": [
       "{'shad christie':             safe_loc_visits  risky_loc_visits  total_loc_visits  \\\n",
       " 2019-03-11              2.0               0.0               2.0   \n",
       " 2019-03-18              0.0               0.0               0.0   \n",
       " 2019-03-25              0.0               0.0               0.0   \n",
       " 2019-04-01              0.0               0.0               0.0   \n",
       " 2019-04-08              0.0               0.0               0.0   \n",
       " \n",
       "             days_w_safe_loc_visits  days_w_risky_loc_visits  \\\n",
       " 2019-03-11                     1.0                      0.0   \n",
       " 2019-03-18                     0.0                      0.0   \n",
       " 2019-03-25                     0.0                      0.0   \n",
       " 2019-04-01                     0.0                      0.0   \n",
       " 2019-04-08                     0.0                      0.0   \n",
       " \n",
       "             days_w_total_loc_visits high_risky_loc_visits_day  \\\n",
       " 2019-03-11                      1.0                - No Max -   \n",
       " 2019-03-18                      0.0                - No Max -   \n",
       " 2019-03-25                      0.0                - No Max -   \n",
       " 2019-04-01                      0.0                - No Max -   \n",
       " 2019-04-08                      0.0                - No Max -   \n",
       " \n",
       "            high_total_loc_visits_day  change_in_risky_loc_visits  \\\n",
       " 2019-03-11                  Mon, Mon                         NaN   \n",
       " 2019-03-18                - No Max -                         0.0   \n",
       " 2019-03-25                - No Max -                         0.0   \n",
       " 2019-04-01                - No Max -                         0.0   \n",
       " 2019-04-08                - No Max -                         0.0   \n",
       " \n",
       "             change_in_days_w_risky_loc_visits  \n",
       " 2019-03-11                                NaN  \n",
       " 2019-03-18                                0.0  \n",
       " 2019-03-25                                0.0  \n",
       " 2019-04-01                                0.0  \n",
       " 2019-04-08                                0.0  }"
      ]
     },
     "execution_count": 14,
     "metadata": {},
     "output_type": "execute_result"
    }
   ],
   "source": [
    "weekly_loc_log_dict"
   ]
  },
  {
   "cell_type": "code",
   "execution_count": 13,
   "metadata": {
    "scrolled": true
   },
   "outputs": [
    {
     "name": "stdout",
     "output_type": "stream",
     "text": [
      "shad christie\n"
     ]
    },
    {
     "data": {
      "image/png": "[encoded data removed]",
      "text/plain": [
       "<Figure size 432x288 with 1 Axes>"
      ]
     },
     "metadata": {
      "needs_background": "light"
     },
     "output_type": "display_data"
    }
   ],
   "source": [
    "loc_days_bar_chart_cols = ['days_w_risky_loc_visits']\n",
    "\n",
    "for username in usernames:\n",
    "    print(username)\n",
    "    loc_days_bar_chart_data = weekly_loc_log_dict[username][loc_days_bar_chart_cols]\n",
    "#     print(comm_vol_bar_chart_data[comm_vol_bar_chart_data.index >= date_indices[0]])\n",
    "    loc_days_bar_chart_data = loc_days_bar_chart_data[(loc_days_bar_chart_data.index >= date_indices[0]) & (loc_days_bar_chart_data.index <= date_indices[-1])]\n",
    "    generate_report_charts.loc_days_bar_chart([username], date_indices, loc_days_bar_chart_data, chart_path, show=True)\n",
    "# loc_days_bar_chart_cols = ['days_w_risky_loc_visits']"
   ]
  },
  {
   "cell_type": "code",
   "execution_count": null,
   "metadata": {
    "scrolled": true
   },
   "outputs": [],
   "source": [
    "comm_pie_chart_cols = ['risky_percent', 'neutral_percent', 'supportive_percent', 'unrated_percent']\n",
    "for username in usernames:\n",
    "    print(username)\n",
    "    comm_pie_chart_data = weekly_comm_dict[username][comm_pie_chart_cols]\n",
    "#     print(comm_pie_chart_data)\n",
    "#     print(comm_pie_chart_data.index)\n",
    "#     print(date_indices)\n",
    "#     print(date_indices[-1].date() - dt.timedelta(7))\n",
    "#     print(comm_pie_chart_data.loc[date_indices[-2].date()])\n",
    "    if date_indices[-2] in comm_pie_chart_data.index:\n",
    "        generate_report_charts.comm_pie_chart([username], date_indices[-2], comm_pie_chart_data.loc[date_indices[-2]], chart_path, show=True)"
   ]
  },
  {
   "cell_type": "markdown",
   "metadata": {},
   "source": [
    "### Contact Rating Distribution"
   ]
  },
  {
   "cell_type": "code",
   "execution_count": null,
   "metadata": {
    "scrolled": true
   },
   "outputs": [],
   "source": [
    "# users_df.head\n",
    "# contacts_dict['+vinny']"
   ]
  },
  {
   "cell_type": "code",
   "execution_count": null,
   "metadata": {},
   "outputs": [],
   "source": [
    "import matplotlib.pyplot as plt\n",
    "\n",
    "f, axarr = plt.subplots(len(usernames),figsize=(10,15), sharex = True, sharey = True)\n",
    "plt.tight_layout()\n",
    "\n",
    "for count, e in enumerate(usernames):  \n",
    "    unrated_threshold = users_df.loc[e, 'unrated_threshold']\n",
    "    risky_threshold = users_df.loc[e, 'risky_threshold']\n",
    "    supportive_threshold = users_df.loc[e, 'supportive_threshold']\n",
    "    \n",
    "    contacts_df = contacts_dict[e].sort_values('score', ascending = False)\n",
    "    unrated = contacts_df['score'][contacts_df['score'] < unrated_threshold]\n",
    "    risky = contacts_df['score'][(contacts_df['score'] >= unrated_threshold)\n",
    "                                                     & (contacts_df['score'] <= risky_threshold)]\n",
    "    neutral = contacts_df['score'][(contacts_df['score'] > risky_threshold)\n",
    "                                                     & (contacts_df['score'] < supportive_threshold)]\n",
    "    supportive = contacts_df['score'][(contacts_df['score'] >= supportive_threshold)]\n",
    "    \n",
    "    axarr[count].bar(supportive.index, supportive, 0.7, color = '#00cc00')\n",
    "    axarr[count].bar(neutral.index, neutral, 0.7, color = 'b')\n",
    "    axarr[count].bar(risky.index, risky, 0.7, color = '#ff6600')\n",
    "    axarr[count].bar(unrated.index, unrated, 0.7, color = '#C0C0C0')\n",
    "    axarr[count].set_title(e)"
   ]
  },
  {
   "cell_type": "code",
   "execution_count": null,
   "metadata": {},
   "outputs": [],
   "source": []
  },
  {
   "cell_type": "code",
   "execution_count": null,
   "metadata": {},
   "outputs": [],
   "source": []
  },
  {
   "cell_type": "code",
   "execution_count": null,
   "metadata": {},
   "outputs": [],
   "source": []
  },
  {
   "cell_type": "code",
   "execution_count": null,
   "metadata": {},
   "outputs": [],
   "source": []
  },
  {
   "cell_type": "code",
   "execution_count": null,
   "metadata": {},
   "outputs": [],
   "source": []
  }
 ],
 "metadata": {
  "kernelspec": {
   "display_name": "Python 3",
   "language": "python",
   "name": "python3"
  },
  "language_info": {
   "codemirror_mode": {
    "name": "ipython",
    "version": 3
   },
   "file_extension": ".py",
   "mimetype": "text/x-python",
   "name": "python",
   "nbconvert_exporter": "python",
   "pygments_lexer": "ipython3",
   "version": "3.7.2"
  }
 },
 "nbformat": 4,
 "nbformat_minor": 2
}
