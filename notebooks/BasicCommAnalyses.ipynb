{
 "cells": [
  {
   "cell_type": "code",
   "execution_count": 1,
   "metadata": {},
   "outputs": [],
   "source": [
    "import os\n",
    "import datetime as dt\n",
    "import pandas as pd\n",
    "import csv"
   ]
  },
  {
   "cell_type": "markdown",
   "metadata": {},
   "source": [
    "### Importing Project Libraries"
   ]
  },
  {
   "cell_type": "code",
   "execution_count": 2,
   "metadata": {},
   "outputs": [],
   "source": [
    "# add the 'src' directory as one where we can import modules\n",
    "import sys\n",
    "import pathlib # __file__ isn't recognized in Jupyter, so we need this to get the root path\n",
    "path = pathlib.Path.cwd()\n",
    "PROJ_ROOT = path.parent \n",
    "src_dir = str(PROJ_ROOT / 'src')\n",
    "PROJ_ROOT = str(PROJ_ROOT)\n",
    "sys.path.append(src_dir)\n",
    "from data import make_dataset"
   ]
  },
  {
   "cell_type": "markdown",
   "metadata": {},
   "source": [
    "### Confirm that the data is up to date"
   ]
  },
  {
   "cell_type": "code",
   "execution_count": 3,
   "metadata": {},
   "outputs": [
    {
     "name": "stdout",
     "output_type": "stream",
     "text": [
      "Interim users_df datafile exists\n",
      "updating data for:\n",
      "['vinoct18', 'liamkl']\n",
      "Updated raw data for users:\n",
      "['vinoct18', 'liamkl']\n",
      "Updated data for:\n",
      "['vinoct18', 'liamkl']\n",
      "            risky_loc_visits  days_w_risky_loc_visits\n",
      "2018-10-22               0.0                      0.0\n",
      "2018-10-29               0.0                      0.0\n",
      "2018-11-05               0.0                      0.0\n",
      "            risky_loc_visits  days_w_risky_loc_visits\n",
      "2018-09-24              22.0                      6.0\n",
      "2018-10-01              46.0                      7.0\n",
      "2018-10-08              66.0                      7.0\n",
      "2018-10-15              44.0                      7.0\n",
      "2018-10-22              50.0                      7.0\n",
      "2018-10-29              39.0                      5.0\n",
      "2018-11-05               0.0                      0.0\n",
      "Interim users_df datafile exists\n",
      "Dataset current for:\n",
      "['vinoct18', 'zombeck', 'liamkl', 'vinoct24']\n"
     ]
    }
   ],
   "source": [
    "usernames = ['liamkl', 'vinoct18', 'vinoct24', 'emily2', 'zombeck']\n",
    "today = dt.date.today()\n",
    "#refreshing the \n",
    "usernames = make_dataset.refresh_user_data(usernames, PROJ_ROOT, today)\n",
    "# Re-pulls raw data and refreshes basic interim data files: users_df.pkl \n",
    "# and a bunch for each user: filename + username + '.pkl'\n",
    "# contacts_df_, day_comm_log_df_, week_comm_log_df_\n",
    "# locations_df_, loc_log_df_, day_loc_log_df_, week_loc_log_df_"
   ]
  },
  {
   "cell_type": "code",
   "execution_count": null,
   "metadata": {},
   "outputs": [],
   "source": []
  }
 ],
 "metadata": {
  "kernelspec": {
   "display_name": "Python 3",
   "language": "python",
   "name": "python3"
  },
  "language_info": {
   "codemirror_mode": {
    "name": "ipython",
    "version": 3
   },
   "file_extension": ".py",
   "mimetype": "text/x-python",
   "name": "python",
   "nbconvert_exporter": "python",
   "pygments_lexer": "ipython3",
   "version": "3.5.1"
  }
 },
 "nbformat": 4,
 "nbformat_minor": 2
}
